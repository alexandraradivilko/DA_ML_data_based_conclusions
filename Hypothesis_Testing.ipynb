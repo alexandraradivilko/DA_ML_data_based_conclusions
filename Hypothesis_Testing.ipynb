{
 "cells": [
  {
   "cell_type": "code",
   "execution_count": 1,
   "id": "2dfce0cf",
   "metadata": {},
   "outputs": [],
   "source": [
    "\n",
    "import numpy as np\n",
    "import pandas as pd\n",
    "from scipy import stats\n",
    "import seaborn as sns\n",
    "import matplotlib as mpl\n",
    "%matplotlib inline"
   ]
  },
  {
   "cell_type": "code",
   "execution_count": 2,
   "id": "83cd09c0",
   "metadata": {},
   "outputs": [],
   "source": [
    "df = pd.read_csv(\"googleplaystore.csv\")\n",
    "df['index'] = df.index"
   ]
  },
  {
   "cell_type": "code",
   "execution_count": 3,
   "id": "9bda4b79",
   "metadata": {},
   "outputs": [
    {
     "data": {
      "text/html": [
       "<div>\n",
       "<style scoped>\n",
       "    .dataframe tbody tr th:only-of-type {\n",
       "        vertical-align: middle;\n",
       "    }\n",
       "\n",
       "    .dataframe tbody tr th {\n",
       "        vertical-align: top;\n",
       "    }\n",
       "\n",
       "    .dataframe thead th {\n",
       "        text-align: right;\n",
       "    }\n",
       "</style>\n",
       "<table border=\"1\" class=\"dataframe\">\n",
       "  <thead>\n",
       "    <tr style=\"text-align: right;\">\n",
       "      <th></th>\n",
       "      <th>App</th>\n",
       "      <th>Category</th>\n",
       "      <th>Rating</th>\n",
       "      <th>Reviews</th>\n",
       "      <th>Size</th>\n",
       "      <th>Installs</th>\n",
       "      <th>Type</th>\n",
       "      <th>Price</th>\n",
       "      <th>Content Rating</th>\n",
       "      <th>Genres</th>\n",
       "      <th>Last Updated</th>\n",
       "      <th>Current Ver</th>\n",
       "      <th>Android Ver</th>\n",
       "      <th>index</th>\n",
       "    </tr>\n",
       "  </thead>\n",
       "  <tbody>\n",
       "    <tr>\n",
       "      <th>0</th>\n",
       "      <td>Photo Editor &amp; Candy Camera &amp; Grid &amp; ScrapBook</td>\n",
       "      <td>ART_AND_DESIGN</td>\n",
       "      <td>4.1</td>\n",
       "      <td>159</td>\n",
       "      <td>19M</td>\n",
       "      <td>10,000+</td>\n",
       "      <td>Free</td>\n",
       "      <td>0</td>\n",
       "      <td>Everyone</td>\n",
       "      <td>Art &amp; Design</td>\n",
       "      <td>January 7, 2018</td>\n",
       "      <td>1.0.0</td>\n",
       "      <td>4.0.3 and up</td>\n",
       "      <td>0</td>\n",
       "    </tr>\n",
       "    <tr>\n",
       "      <th>1</th>\n",
       "      <td>Coloring book moana</td>\n",
       "      <td>ART_AND_DESIGN</td>\n",
       "      <td>3.9</td>\n",
       "      <td>967</td>\n",
       "      <td>14M</td>\n",
       "      <td>500,000+</td>\n",
       "      <td>Free</td>\n",
       "      <td>0</td>\n",
       "      <td>Everyone</td>\n",
       "      <td>Art &amp; Design;Pretend Play</td>\n",
       "      <td>January 15, 2018</td>\n",
       "      <td>2.0.0</td>\n",
       "      <td>4.0.3 and up</td>\n",
       "      <td>1</td>\n",
       "    </tr>\n",
       "    <tr>\n",
       "      <th>2</th>\n",
       "      <td>U Launcher Lite – FREE Live Cool Themes, Hide ...</td>\n",
       "      <td>ART_AND_DESIGN</td>\n",
       "      <td>4.7</td>\n",
       "      <td>87510</td>\n",
       "      <td>8.7M</td>\n",
       "      <td>5,000,000+</td>\n",
       "      <td>Free</td>\n",
       "      <td>0</td>\n",
       "      <td>Everyone</td>\n",
       "      <td>Art &amp; Design</td>\n",
       "      <td>August 1, 2018</td>\n",
       "      <td>1.2.4</td>\n",
       "      <td>4.0.3 and up</td>\n",
       "      <td>2</td>\n",
       "    </tr>\n",
       "    <tr>\n",
       "      <th>3</th>\n",
       "      <td>Sketch - Draw &amp; Paint</td>\n",
       "      <td>ART_AND_DESIGN</td>\n",
       "      <td>4.5</td>\n",
       "      <td>215644</td>\n",
       "      <td>25M</td>\n",
       "      <td>50,000,000+</td>\n",
       "      <td>Free</td>\n",
       "      <td>0</td>\n",
       "      <td>Teen</td>\n",
       "      <td>Art &amp; Design</td>\n",
       "      <td>June 8, 2018</td>\n",
       "      <td>Varies with device</td>\n",
       "      <td>4.2 and up</td>\n",
       "      <td>3</td>\n",
       "    </tr>\n",
       "    <tr>\n",
       "      <th>4</th>\n",
       "      <td>Pixel Draw - Number Art Coloring Book</td>\n",
       "      <td>ART_AND_DESIGN</td>\n",
       "      <td>4.3</td>\n",
       "      <td>967</td>\n",
       "      <td>2.8M</td>\n",
       "      <td>100,000+</td>\n",
       "      <td>Free</td>\n",
       "      <td>0</td>\n",
       "      <td>Everyone</td>\n",
       "      <td>Art &amp; Design;Creativity</td>\n",
       "      <td>June 20, 2018</td>\n",
       "      <td>1.1</td>\n",
       "      <td>4.4 and up</td>\n",
       "      <td>4</td>\n",
       "    </tr>\n",
       "  </tbody>\n",
       "</table>\n",
       "</div>"
      ],
      "text/plain": [
       "                                                 App        Category  Rating  \\\n",
       "0     Photo Editor & Candy Camera & Grid & ScrapBook  ART_AND_DESIGN     4.1   \n",
       "1                                Coloring book moana  ART_AND_DESIGN     3.9   \n",
       "2  U Launcher Lite – FREE Live Cool Themes, Hide ...  ART_AND_DESIGN     4.7   \n",
       "3                              Sketch - Draw & Paint  ART_AND_DESIGN     4.5   \n",
       "4              Pixel Draw - Number Art Coloring Book  ART_AND_DESIGN     4.3   \n",
       "\n",
       "  Reviews  Size     Installs  Type Price Content Rating  \\\n",
       "0     159   19M      10,000+  Free     0       Everyone   \n",
       "1     967   14M     500,000+  Free     0       Everyone   \n",
       "2   87510  8.7M   5,000,000+  Free     0       Everyone   \n",
       "3  215644   25M  50,000,000+  Free     0           Teen   \n",
       "4     967  2.8M     100,000+  Free     0       Everyone   \n",
       "\n",
       "                      Genres      Last Updated         Current Ver  \\\n",
       "0               Art & Design   January 7, 2018               1.0.0   \n",
       "1  Art & Design;Pretend Play  January 15, 2018               2.0.0   \n",
       "2               Art & Design    August 1, 2018               1.2.4   \n",
       "3               Art & Design      June 8, 2018  Varies with device   \n",
       "4    Art & Design;Creativity     June 20, 2018                 1.1   \n",
       "\n",
       "    Android Ver  index  \n",
       "0  4.0.3 and up      0  \n",
       "1  4.0.3 and up      1  \n",
       "2  4.0.3 and up      2  \n",
       "3    4.2 and up      3  \n",
       "4    4.4 and up      4  "
      ]
     },
     "execution_count": 3,
     "metadata": {},
     "output_type": "execute_result"
    }
   ],
   "source": [
    "df.head()"
   ]
  },
  {
   "cell_type": "markdown",
   "id": "fe6e7f67",
   "metadata": {},
   "source": [
    "## Выберите любые два жанра, посчитайте, есть ли для них разница по количеству платных и бесплатных приложений."
   ]
  },
  {
   "cell_type": "code",
   "execution_count": 4,
   "id": "9718e235",
   "metadata": {},
   "outputs": [
    {
     "data": {
      "text/plain": [
       "Tools                     842\n",
       "Entertainment             623\n",
       "Education                 549\n",
       "Medical                   463\n",
       "Business                  460\n",
       "                         ... \n",
       "Arcade;Pretend Play         1\n",
       "Card;Brain Games            1\n",
       "Lifestyle;Pretend Play      1\n",
       "Comics;Creativity           1\n",
       "Strategy;Creativity         1\n",
       "Name: Genres, Length: 120, dtype: int64"
      ]
     },
     "execution_count": 4,
     "metadata": {},
     "output_type": "execute_result"
    }
   ],
   "source": [
    "df.Genres.value_counts()"
   ]
  },
  {
   "cell_type": "code",
   "execution_count": 5,
   "id": "376b4ec5",
   "metadata": {},
   "outputs": [],
   "source": [
    "\n",
    "# формирую группы по двум жанрам\n",
    "df_bis=df[df['Genres']=='Business']\n",
    "df_med=df[df['Genres']=='Medical']"
   ]
  },
  {
   "cell_type": "code",
   "execution_count": 6,
   "id": "cf55516b",
   "metadata": {},
   "outputs": [
    {
     "data": {
      "text/plain": [
       "Free    446\n",
       "Paid     14\n",
       "Name: Type, dtype: int64"
      ]
     },
     "execution_count": 6,
     "metadata": {},
     "output_type": "execute_result"
    }
   ],
   "source": [
    "df_bis.Type.value_counts()"
   ]
  },
  {
   "cell_type": "code",
   "execution_count": 7,
   "id": "33bb4774",
   "metadata": {},
   "outputs": [
    {
     "data": {
      "text/plain": [
       "Free    354\n",
       "Paid    109\n",
       "Name: Type, dtype: int64"
      ]
     },
     "execution_count": 7,
     "metadata": {},
     "output_type": "execute_result"
    }
   ],
   "source": [
    "df_med.Type.value_counts()"
   ]
  },
  {
   "cell_type": "code",
   "execution_count": 8,
   "id": "5dac6a7a",
   "metadata": {},
   "outputs": [],
   "source": [
    "app_cut = df[(df.Genres == \"Business\") | (df.Genres == \"Medical\")]"
   ]
  },
  {
   "cell_type": "code",
   "execution_count": 9,
   "id": "72d8662e",
   "metadata": {},
   "outputs": [
    {
     "name": "stdout",
     "output_type": "stream",
     "text": [
      "<class 'pandas.core.frame.DataFrame'>\n",
      "Index: 2 entries, Business to Medical\n",
      "Data columns (total 2 columns):\n",
      " #   Column  Non-Null Count  Dtype\n",
      "---  ------  --------------  -----\n",
      " 0   Free    2 non-null      int64\n",
      " 1   Paid    2 non-null      int64\n",
      "dtypes: int64(2)\n",
      "memory usage: 48.0+ bytes\n"
     ]
    }
   ],
   "source": [
    "# Нулевая гипотеза: доли платных приложений в двух жанрах не различаются\n",
    "# Проверяем с помощью Хи квадрат теста\n",
    "t=pd.crosstab(app_cut.Genres, app_cut.Type)\n",
    "t.info()"
   ]
  },
  {
   "cell_type": "code",
   "execution_count": 10,
   "id": "92d1e666",
   "metadata": {},
   "outputs": [
    {
     "data": {
      "text/plain": [
       "0.13326110509209102"
      ]
     },
     "execution_count": 10,
     "metadata": {},
     "output_type": "execute_result"
    }
   ],
   "source": [
    "t.sum()[\"Paid\"]/t.sum().sum()"
   ]
  },
  {
   "cell_type": "code",
   "execution_count": 11,
   "id": "a9aa7fc0",
   "metadata": {},
   "outputs": [
    {
     "data": {
      "text/plain": [
       "(82.17976572988027,\n",
       " 1.2425543815508097e-19,\n",
       " 1,\n",
       " array([[398.69989166,  61.30010834],\n",
       "        [401.30010834,  61.69989166]]))"
      ]
     },
     "execution_count": 11,
     "metadata": {},
     "output_type": "execute_result"
    }
   ],
   "source": [
    "stats.chi2_contingency(t) "
   ]
  },
  {
   "cell_type": "code",
   "execution_count": 12,
   "id": "c29175cd",
   "metadata": {},
   "outputs": [
    {
     "data": {
      "text/plain": [
       "1.2425543815508097e-19"
      ]
     },
     "execution_count": 12,
     "metadata": {},
     "output_type": "execute_result"
    }
   ],
   "source": [
    "chi2, p, dof, expected = stats.chi2_contingency(t) \n",
    "p"
   ]
  },
  {
   "cell_type": "markdown",
   "id": "eddb0cca",
   "metadata": {},
   "source": [
    "Вывод: p-value < 0.05 => отвергаем нулевую гипотезу,  доли платных приложений в двух жанрах статистически различаются"
   ]
  },
  {
   "cell_type": "markdown",
   "id": "3bd47766",
   "metadata": {},
   "source": [
    "## Выберите любые две категории, посчитайте, есть ли для них разница по количеству платных и бесплатных приложений."
   ]
  },
  {
   "cell_type": "code",
   "execution_count": 13,
   "id": "1079bd34",
   "metadata": {},
   "outputs": [
    {
     "data": {
      "text/plain": [
       "FAMILY                 1972\n",
       "GAME                   1144\n",
       "TOOLS                   843\n",
       "MEDICAL                 463\n",
       "BUSINESS                460\n",
       "PRODUCTIVITY            424\n",
       "PERSONALIZATION         392\n",
       "COMMUNICATION           387\n",
       "SPORTS                  384\n",
       "LIFESTYLE               382\n",
       "FINANCE                 366\n",
       "HEALTH_AND_FITNESS      341\n",
       "PHOTOGRAPHY             335\n",
       "SOCIAL                  295\n",
       "NEWS_AND_MAGAZINES      283\n",
       "SHOPPING                260\n",
       "TRAVEL_AND_LOCAL        258\n",
       "DATING                  234\n",
       "BOOKS_AND_REFERENCE     231\n",
       "VIDEO_PLAYERS           175\n",
       "EDUCATION               156\n",
       "ENTERTAINMENT           149\n",
       "MAPS_AND_NAVIGATION     137\n",
       "FOOD_AND_DRINK          127\n",
       "HOUSE_AND_HOME           88\n",
       "LIBRARIES_AND_DEMO       85\n",
       "AUTO_AND_VEHICLES        85\n",
       "WEATHER                  82\n",
       "ART_AND_DESIGN           65\n",
       "EVENTS                   64\n",
       "PARENTING                60\n",
       "COMICS                   60\n",
       "BEAUTY                   53\n",
       "1.9                       1\n",
       "Name: Category, dtype: int64"
      ]
     },
     "execution_count": 13,
     "metadata": {},
     "output_type": "execute_result"
    }
   ],
   "source": [
    "# формирую группы по двум категориям\n",
    "df.Category.value_counts()"
   ]
  },
  {
   "cell_type": "code",
   "execution_count": 14,
   "id": "592ab86d",
   "metadata": {},
   "outputs": [],
   "source": [
    "app_cut2 = df[(df.Category == \"PARENTING\") | (df.Category == \"COMICS\")]\n"
   ]
  },
  {
   "cell_type": "code",
   "execution_count": 15,
   "id": "000dae7f",
   "metadata": {},
   "outputs": [
    {
     "data": {
      "text/html": [
       "<div>\n",
       "<style scoped>\n",
       "    .dataframe tbody tr th:only-of-type {\n",
       "        vertical-align: middle;\n",
       "    }\n",
       "\n",
       "    .dataframe tbody tr th {\n",
       "        vertical-align: top;\n",
       "    }\n",
       "\n",
       "    .dataframe thead th {\n",
       "        text-align: right;\n",
       "    }\n",
       "</style>\n",
       "<table border=\"1\" class=\"dataframe\">\n",
       "  <thead>\n",
       "    <tr style=\"text-align: right;\">\n",
       "      <th>Type</th>\n",
       "      <th>Free</th>\n",
       "      <th>Paid</th>\n",
       "    </tr>\n",
       "    <tr>\n",
       "      <th>Category</th>\n",
       "      <th></th>\n",
       "      <th></th>\n",
       "    </tr>\n",
       "  </thead>\n",
       "  <tbody>\n",
       "    <tr>\n",
       "      <th>COMICS</th>\n",
       "      <td>60</td>\n",
       "      <td>0</td>\n",
       "    </tr>\n",
       "    <tr>\n",
       "      <th>PARENTING</th>\n",
       "      <td>58</td>\n",
       "      <td>2</td>\n",
       "    </tr>\n",
       "  </tbody>\n",
       "</table>\n",
       "</div>"
      ],
      "text/plain": [
       "Type       Free  Paid\n",
       "Category             \n",
       "COMICS       60     0\n",
       "PARENTING    58     2"
      ]
     },
     "execution_count": 15,
     "metadata": {},
     "output_type": "execute_result"
    }
   ],
   "source": [
    "t2=pd.crosstab(app_cut2.Category, app_cut2.Type)\n",
    "t2\n",
    "# наблюдений не везде больше 5, проводим тест Фишера"
   ]
  },
  {
   "cell_type": "code",
   "execution_count": 16,
   "id": "b702961d",
   "metadata": {},
   "outputs": [],
   "source": [
    "from scipy.stats import fisher_exact"
   ]
  },
  {
   "cell_type": "code",
   "execution_count": 17,
   "id": "5521fd63",
   "metadata": {},
   "outputs": [
    {
     "data": {
      "text/plain": [
       "False"
      ]
     },
     "execution_count": 17,
     "metadata": {},
     "output_type": "execute_result"
    }
   ],
   "source": [
    "oddsr, p = fisher_exact(t2, alternative='two-sided') \n",
    "p< 0.05"
   ]
  },
  {
   "cell_type": "markdown",
   "id": "6cc22925",
   "metadata": {},
   "source": [
    "Вывод: p-value > 0.05 => принимаем нулевую гипотезу,  доли платных приложений в двух категориях статистически не различаются"
   ]
  },
  {
   "cell_type": "markdown",
   "id": "6d54a713",
   "metadata": {},
   "source": [
    "## Оставьте только платные приложения. Проверьте, есть ли разница в цене между приложениями категорий (Category) GAME и TOOLS."
   ]
  },
  {
   "cell_type": "markdown",
   "id": "2614ed47",
   "metadata": {},
   "source": [
    "нулевая гипотеза: средняя цена категории Игры равна средней цене категории Инструменты"
   ]
  },
  {
   "cell_type": "code",
   "execution_count": 18,
   "id": "ed55085c",
   "metadata": {},
   "outputs": [
    {
     "name": "stderr",
     "output_type": "stream",
     "text": [
      "/var/folders/vy/dqjs80ms1kg43qy8g1wp0x1m0000gn/T/ipykernel_55538/2092432551.py:2: SettingWithCopyWarning: \n",
      "A value is trying to be set on a copy of a slice from a DataFrame.\n",
      "Try using .loc[row_indexer,col_indexer] = value instead\n",
      "\n",
      "See the caveats in the documentation: https://pandas.pydata.org/pandas-docs/stable/user_guide/indexing.html#returning-a-view-versus-a-copy\n",
      "  paid['Price'] = paid['Price'].str[1:]\n"
     ]
    }
   ],
   "source": [
    "paid = df[(df.Type==\"Paid\")]\n",
    "paid['Price'] = paid['Price'].str[1:]\n",
    "\n"
   ]
  },
  {
   "cell_type": "code",
   "execution_count": 19,
   "id": "ef0d433c",
   "metadata": {},
   "outputs": [
    {
     "name": "stderr",
     "output_type": "stream",
     "text": [
      "/var/folders/vy/dqjs80ms1kg43qy8g1wp0x1m0000gn/T/ipykernel_55538/2488510142.py:1: SettingWithCopyWarning: \n",
      "A value is trying to be set on a copy of a slice from a DataFrame.\n",
      "Try using .loc[row_indexer,col_indexer] = value instead\n",
      "\n",
      "See the caveats in the documentation: https://pandas.pydata.org/pandas-docs/stable/user_guide/indexing.html#returning-a-view-versus-a-copy\n",
      "  paid['Price'] = paid['Price'].astype(float)\n"
     ]
    }
   ],
   "source": [
    "paid['Price'] = paid['Price'].astype(float)"
   ]
  },
  {
   "cell_type": "code",
   "execution_count": 20,
   "id": "d87f2564",
   "metadata": {},
   "outputs": [],
   "source": [
    "\n",
    "\n",
    "# Формируем датафреймы\n",
    "games = paid[paid.Category == \"GAME\"] \n",
    "tools = paid[paid. Category == \"TOOLS\"]"
   ]
  },
  {
   "cell_type": "code",
   "execution_count": 21,
   "id": "f2ec2812",
   "metadata": {},
   "outputs": [
    {
     "data": {
      "text/plain": [
       "<Axes: ylabel='Price'>"
      ]
     },
     "execution_count": 21,
     "metadata": {},
     "output_type": "execute_result"
    },
    {
     "data": {
      "image/png": "[encoded data removed]",
      "text/plain": [
       "<Figure size 640x480 with 1 Axes>"
      ]
     },
     "metadata": {},
     "output_type": "display_data"
    }
   ],
   "source": [
    "# проверяем на нормальность\n",
    "sns.boxplot(y=games.Price)"
   ]
  },
  {
   "cell_type": "code",
   "execution_count": 22,
   "id": "909ddaed",
   "metadata": {},
   "outputs": [
    {
     "data": {
      "text/plain": [
       "<Axes: ylabel='Price'>"
      ]
     },
     "execution_count": 22,
     "metadata": {},
     "output_type": "execute_result"
    },
    {
     "data": {
      "image/png": "[encoded data removed]",
      "text/plain": [
       "<Figure size 640x480 with 1 Axes>"
      ]
     },
     "metadata": {},
     "output_type": "display_data"
    }
   ],
   "source": [
    "sns.boxplot(y=tools.Price)"
   ]
  },
  {
   "cell_type": "markdown",
   "id": "1a483681",
   "metadata": {},
   "source": [
    "визуально распределения выглядят ненормальными, поэтому используем непараметрический тест Манна-Уитни"
   ]
  },
  {
   "cell_type": "code",
   "execution_count": 23,
   "id": "efa10173",
   "metadata": {},
   "outputs": [
    {
     "data": {
      "text/plain": [
       "MannwhitneyuResult(statistic=3230.0, pvalue=0.982226665512117)"
      ]
     },
     "execution_count": 23,
     "metadata": {},
     "output_type": "execute_result"
    }
   ],
   "source": [
    "stats.mannwhitneyu(games.Price,tools.Price)"
   ]
  },
  {
   "cell_type": "markdown",
   "id": "5a409bf9",
   "metadata": {},
   "source": [
    "## Вывод: средние цены двух категорий значимо не различаются"
   ]
  },
  {
   "cell_type": "markdown",
   "id": "935c4e37",
   "metadata": {},
   "source": [
    "## Отличается ли количество отзывов у платных и бесплатных приложений в категории GAME."
   ]
  },
  {
   "cell_type": "code",
   "execution_count": 24,
   "id": "55db8301",
   "metadata": {},
   "outputs": [
    {
     "name": "stderr",
     "output_type": "stream",
     "text": [
      "/var/folders/vy/dqjs80ms1kg43qy8g1wp0x1m0000gn/T/ipykernel_55538/764349274.py:6: SettingWithCopyWarning: \n",
      "A value is trying to be set on a copy of a slice from a DataFrame.\n",
      "Try using .loc[row_indexer,col_indexer] = value instead\n",
      "\n",
      "See the caveats in the documentation: https://pandas.pydata.org/pandas-docs/stable/user_guide/indexing.html#returning-a-view-versus-a-copy\n",
      "  free['Reviews'] = free['Reviews'].astype(float)\n",
      "/var/folders/vy/dqjs80ms1kg43qy8g1wp0x1m0000gn/T/ipykernel_55538/764349274.py:7: SettingWithCopyWarning: \n",
      "A value is trying to be set on a copy of a slice from a DataFrame.\n",
      "Try using .loc[row_indexer,col_indexer] = value instead\n",
      "\n",
      "See the caveats in the documentation: https://pandas.pydata.org/pandas-docs/stable/user_guide/indexing.html#returning-a-view-versus-a-copy\n",
      "  paid['Reviews'] = paid['Reviews'].astype(float)\n"
     ]
    }
   ],
   "source": [
    "\n",
    "games = df[(df.Category == \"GAME\")]\n",
    "#Формируем датафреймы  \n",
    "free = games[(games.Type == \"Free\")]\n",
    "paid = games[(games.Type == \"Paid\")]\n",
    "\n",
    "free['Reviews'] = free['Reviews'].astype(float)\n",
    "paid['Reviews'] = paid['Reviews'].astype(float)"
   ]
  },
  {
   "cell_type": "code",
   "execution_count": 25,
   "id": "785592a1",
   "metadata": {},
   "outputs": [
    {
     "name": "stdout",
     "output_type": "stream",
     "text": [
      "<class 'pandas.core.frame.DataFrame'>\n",
      "Int64Index: 1061 entries, 1653 to 10804\n",
      "Data columns (total 14 columns):\n",
      " #   Column          Non-Null Count  Dtype  \n",
      "---  ------          --------------  -----  \n",
      " 0   App             1061 non-null   object \n",
      " 1   Category        1061 non-null   object \n",
      " 2   Rating          1020 non-null   float64\n",
      " 3   Reviews         1061 non-null   float64\n",
      " 4   Size            1061 non-null   object \n",
      " 5   Installs        1061 non-null   object \n",
      " 6   Type            1061 non-null   object \n",
      " 7   Price           1061 non-null   object \n",
      " 8   Content Rating  1061 non-null   object \n",
      " 9   Genres          1061 non-null   object \n",
      " 10  Last Updated    1061 non-null   object \n",
      " 11  Current Ver     1061 non-null   object \n",
      " 12  Android Ver     1061 non-null   object \n",
      " 13  index           1061 non-null   int64  \n",
      "dtypes: float64(2), int64(1), object(11)\n",
      "memory usage: 124.3+ KB\n"
     ]
    }
   ],
   "source": [
    "free.info()"
   ]
  },
  {
   "cell_type": "code",
   "execution_count": 26,
   "id": "e8ced4a3",
   "metadata": {},
   "outputs": [
    {
     "data": {
      "text/plain": [
       "<Axes: ylabel='Reviews'>"
      ]
     },
     "execution_count": 26,
     "metadata": {},
     "output_type": "execute_result"
    },
    {
     "data": {
      "image/png": "[encoded data removed]",
      "text/plain": [
       "<Figure size 640x480 with 1 Axes>"
      ]
     },
     "metadata": {},
     "output_type": "display_data"
    }
   ],
   "source": [
    "# проверяем на нормальность\n",
    "sns.boxplot(y=free.Reviews)"
   ]
  },
  {
   "cell_type": "code",
   "execution_count": 27,
   "id": "3d4a9647",
   "metadata": {},
   "outputs": [
    {
     "data": {
      "text/plain": [
       "<Axes: ylabel='Reviews'>"
      ]
     },
     "execution_count": 27,
     "metadata": {},
     "output_type": "execute_result"
    },
    {
     "data": {
      "image/png": "[encoded data removed]",
      "text/plain": [
       "<Figure size 640x480 with 1 Axes>"
      ]
     },
     "metadata": {},
     "output_type": "display_data"
    }
   ],
   "source": [
    "sns.boxplot(y=paid.Reviews)"
   ]
  },
  {
   "cell_type": "markdown",
   "id": "2d1ae390",
   "metadata": {},
   "source": [
    "визуально распределения выглядят ненормальными, поэтому используем непараметрический тест Манна-Уитни"
   ]
  },
  {
   "cell_type": "code",
   "execution_count": 28,
   "id": "8c6fad3c",
   "metadata": {},
   "outputs": [
    {
     "data": {
      "text/plain": [
       "MannwhitneyuResult(statistic=69145.0, pvalue=4.577364820062336e-18)"
      ]
     },
     "execution_count": 28,
     "metadata": {},
     "output_type": "execute_result"
    }
   ],
   "source": [
    "stats.mannwhitneyu(free.Reviews,paid.Reviews)"
   ]
  },
  {
   "cell_type": "markdown",
   "id": "f76de424",
   "metadata": {},
   "source": [
    "## Вывод: среднее количество отзывов у платных и бесплатных приложений в категории GAME значимо различаются"
   ]
  },
  {
   "cell_type": "markdown",
   "id": "a48d6e12",
   "metadata": {},
   "source": [
    "## Правда ли, что в категории MEDICAL есть взаимосвязь между тем фактом, что приложение платное, и фактом, что у приложения отзывов больше, чем в среднем в этой категории."
   ]
  },
  {
   "cell_type": "code",
   "execution_count": 29,
   "id": "90a25a18",
   "metadata": {},
   "outputs": [
    {
     "name": "stderr",
     "output_type": "stream",
     "text": [
      "/var/folders/vy/dqjs80ms1kg43qy8g1wp0x1m0000gn/T/ipykernel_55538/1439756726.py:2: SettingWithCopyWarning: \n",
      "A value is trying to be set on a copy of a slice from a DataFrame.\n",
      "Try using .loc[row_indexer,col_indexer] = value instead\n",
      "\n",
      "See the caveats in the documentation: https://pandas.pydata.org/pandas-docs/stable/user_guide/indexing.html#returning-a-view-versus-a-copy\n",
      "  med['Reviews'] = med['Reviews'].astype(float)\n"
     ]
    }
   ],
   "source": [
    "\n",
    "med = df[(df.Category == \"MEDICAL\")]\n",
    "med['Reviews'] = med['Reviews'].astype(float)\n",
    "# Формируем датафрейм\n",
    "med_paid = med[(med.Type == \"Paid\")]\n"
   ]
  },
  {
   "cell_type": "code",
   "execution_count": 30,
   "id": "34ef3802",
   "metadata": {},
   "outputs": [
    {
     "name": "stdout",
     "output_type": "stream",
     "text": [
      "<class 'pandas.core.frame.DataFrame'>\n",
      "Int64Index: 109 entries, 2243 to 9719\n",
      "Data columns (total 14 columns):\n",
      " #   Column          Non-Null Count  Dtype  \n",
      "---  ------          --------------  -----  \n",
      " 0   App             109 non-null    object \n",
      " 1   Category        109 non-null    object \n",
      " 2   Rating          88 non-null     float64\n",
      " 3   Reviews         109 non-null    float64\n",
      " 4   Size            109 non-null    object \n",
      " 5   Installs        109 non-null    object \n",
      " 6   Type            109 non-null    object \n",
      " 7   Price           109 non-null    object \n",
      " 8   Content Rating  109 non-null    object \n",
      " 9   Genres          109 non-null    object \n",
      " 10  Last Updated    109 non-null    object \n",
      " 11  Current Ver     109 non-null    object \n",
      " 12  Android Ver     109 non-null    object \n",
      " 13  index           109 non-null    int64  \n",
      "dtypes: float64(2), int64(1), object(11)\n",
      "memory usage: 12.8+ KB\n"
     ]
    }
   ],
   "source": [
    "med_paid.info()"
   ]
  },
  {
   "cell_type": "code",
   "execution_count": 31,
   "id": "84349947",
   "metadata": {},
   "outputs": [
    {
     "data": {
      "text/plain": [
       "3425.4319654427645"
      ]
     },
     "execution_count": 31,
     "metadata": {},
     "output_type": "execute_result"
    }
   ],
   "source": [
    "# вычисляем среднее кол-во отзывов у категории\n",
    "m = med['Reviews'].mean()\n",
    "m"
   ]
  },
  {
   "cell_type": "code",
   "execution_count": 32,
   "id": "8db347be",
   "metadata": {},
   "outputs": [
    {
     "data": {
      "text/plain": [
       "463"
      ]
     },
     "execution_count": 32,
     "metadata": {},
     "output_type": "execute_result"
    }
   ],
   "source": [
    "med['Reviews'].count()"
   ]
  },
  {
   "cell_type": "code",
   "execution_count": 33,
   "id": "fef94dd1",
   "metadata": {},
   "outputs": [
    {
     "data": {
      "text/plain": [
       "300.1284403669725"
      ]
     },
     "execution_count": 33,
     "metadata": {},
     "output_type": "execute_result"
    }
   ],
   "source": [
    "# вычисляем среднее кол-во отзывов у платных приложений\n",
    "m1 = med_paid['Reviews'].mean()\n",
    "m1"
   ]
  },
  {
   "cell_type": "code",
   "execution_count": 34,
   "id": "d58a7075",
   "metadata": {},
   "outputs": [
    {
     "data": {
      "text/plain": [
       "109"
      ]
     },
     "execution_count": 34,
     "metadata": {},
     "output_type": "execute_result"
    }
   ],
   "source": [
    "med_paid['Reviews'].count()"
   ]
  },
  {
   "cell_type": "code",
   "execution_count": 35,
   "id": "3119be75",
   "metadata": {},
   "outputs": [
    {
     "data": {
      "text/plain": [
       "<Axes: ylabel='Reviews'>"
      ]
     },
     "execution_count": 35,
     "metadata": {},
     "output_type": "execute_result"
    },
    {
     "data": {
      "image/png": "[encoded data removed]",
      "text/plain": [
       "<Figure size 640x480 with 1 Axes>"
      ]
     },
     "metadata": {},
     "output_type": "display_data"
    }
   ],
   "source": [
    "# смотрим на распределения\n",
    "sns.boxplot(y=med_paid.Reviews)"
   ]
  },
  {
   "cell_type": "code",
   "execution_count": 36,
   "id": "4036b08d",
   "metadata": {},
   "outputs": [
    {
     "data": {
      "text/plain": [
       "<Axes: ylabel='Reviews'>"
      ]
     },
     "execution_count": 36,
     "metadata": {},
     "output_type": "execute_result"
    },
    {
     "data": {
      "image/png": "[encoded data removed]",
      "text/plain": [
       "<Figure size 640x480 with 1 Axes>"
      ]
     },
     "metadata": {},
     "output_type": "display_data"
    }
   ],
   "source": [
    "sns.boxplot(y=med.Reviews)"
   ]
  },
  {
   "cell_type": "code",
   "execution_count": 37,
   "id": "4311fe4b",
   "metadata": {},
   "outputs": [
    {
     "data": {
      "text/plain": [
       "MannwhitneyuResult(statistic=24249.0, pvalue=0.2628341785397463)"
      ]
     },
     "execution_count": 37,
     "metadata": {},
     "output_type": "execute_result"
    }
   ],
   "source": [
    "# распределения ненормальны - используем непараметрический тест Манна-Уитни\n",
    "stats.mannwhitneyu(med.Reviews, med_paid.Reviews, alternative='less')"
   ]
  },
  {
   "cell_type": "code",
   "execution_count": 38,
   "id": "0dbfa7a3",
   "metadata": {},
   "outputs": [],
   "source": [
    "# в задании говорится про средние значения, а тест М-У вычисляется по рангам, поэтому проведу T-test"
   ]
  },
  {
   "cell_type": "code",
   "execution_count": 39,
   "id": "3230bb5a",
   "metadata": {},
   "outputs": [
    {
     "data": {
      "text/plain": [
       "'Отвергаем нулевую гипотезу'"
      ]
     },
     "execution_count": 39,
     "metadata": {},
     "output_type": "execute_result"
    }
   ],
   "source": [
    "\n",
    "# Выполнение t-теста\n",
    "t_statistic, p_value = stats.ttest_1samp(med_paid.Reviews, popmean=m)\n",
    "\n",
    "if p_value < 0.05:\n",
    "    conclusion = \"Отвергаем нулевую гипотезу\"\n",
    "else:\n",
    "    conclusion = \"Не отвергаем нулевую гипотезу\"\n",
    "\n",
    "conclusion"
   ]
  },
  {
   "cell_type": "markdown",
   "id": "7cf77314",
   "metadata": {},
   "source": [
    "## Вывод: несмотря на ненормальность распределения, я провела односторонний T-test. Количество отзывов у платных приложений в категории значимо отличается от среднего в этой категории"
   ]
  },
  {
   "cell_type": "markdown",
   "id": "d8fc0a8f",
   "metadata": {},
   "source": [
    "## На какие еще вопросы вы можете ответить с помощью этих данных? Придумайте и протестируйте, как минимум, один"
   ]
  },
  {
   "cell_type": "code",
   "execution_count": 40,
   "id": "752a99a1",
   "metadata": {},
   "outputs": [
    {
     "data": {
      "text/html": [
       "<div>\n",
       "<style scoped>\n",
       "    .dataframe tbody tr th:only-of-type {\n",
       "        vertical-align: middle;\n",
       "    }\n",
       "\n",
       "    .dataframe tbody tr th {\n",
       "        vertical-align: top;\n",
       "    }\n",
       "\n",
       "    .dataframe thead th {\n",
       "        text-align: right;\n",
       "    }\n",
       "</style>\n",
       "<table border=\"1\" class=\"dataframe\">\n",
       "  <thead>\n",
       "    <tr style=\"text-align: right;\">\n",
       "      <th></th>\n",
       "      <th>App</th>\n",
       "      <th>Category</th>\n",
       "      <th>Rating</th>\n",
       "      <th>Reviews</th>\n",
       "      <th>Size</th>\n",
       "      <th>Installs</th>\n",
       "      <th>Type</th>\n",
       "      <th>Price</th>\n",
       "      <th>Content Rating</th>\n",
       "      <th>Genres</th>\n",
       "      <th>Last Updated</th>\n",
       "      <th>Current Ver</th>\n",
       "      <th>Android Ver</th>\n",
       "      <th>index</th>\n",
       "    </tr>\n",
       "  </thead>\n",
       "  <tbody>\n",
       "    <tr>\n",
       "      <th>0</th>\n",
       "      <td>Photo Editor &amp; Candy Camera &amp; Grid &amp; ScrapBook</td>\n",
       "      <td>ART_AND_DESIGN</td>\n",
       "      <td>4.1</td>\n",
       "      <td>159</td>\n",
       "      <td>19M</td>\n",
       "      <td>10,000+</td>\n",
       "      <td>Free</td>\n",
       "      <td>0</td>\n",
       "      <td>Everyone</td>\n",
       "      <td>Art &amp; Design</td>\n",
       "      <td>January 7, 2018</td>\n",
       "      <td>1.0.0</td>\n",
       "      <td>4.0.3 and up</td>\n",
       "      <td>0</td>\n",
       "    </tr>\n",
       "    <tr>\n",
       "      <th>1</th>\n",
       "      <td>Coloring book moana</td>\n",
       "      <td>ART_AND_DESIGN</td>\n",
       "      <td>3.9</td>\n",
       "      <td>967</td>\n",
       "      <td>14M</td>\n",
       "      <td>500,000+</td>\n",
       "      <td>Free</td>\n",
       "      <td>0</td>\n",
       "      <td>Everyone</td>\n",
       "      <td>Art &amp; Design;Pretend Play</td>\n",
       "      <td>January 15, 2018</td>\n",
       "      <td>2.0.0</td>\n",
       "      <td>4.0.3 and up</td>\n",
       "      <td>1</td>\n",
       "    </tr>\n",
       "    <tr>\n",
       "      <th>2</th>\n",
       "      <td>U Launcher Lite – FREE Live Cool Themes, Hide ...</td>\n",
       "      <td>ART_AND_DESIGN</td>\n",
       "      <td>4.7</td>\n",
       "      <td>87510</td>\n",
       "      <td>8.7M</td>\n",
       "      <td>5,000,000+</td>\n",
       "      <td>Free</td>\n",
       "      <td>0</td>\n",
       "      <td>Everyone</td>\n",
       "      <td>Art &amp; Design</td>\n",
       "      <td>August 1, 2018</td>\n",
       "      <td>1.2.4</td>\n",
       "      <td>4.0.3 and up</td>\n",
       "      <td>2</td>\n",
       "    </tr>\n",
       "    <tr>\n",
       "      <th>3</th>\n",
       "      <td>Sketch - Draw &amp; Paint</td>\n",
       "      <td>ART_AND_DESIGN</td>\n",
       "      <td>4.5</td>\n",
       "      <td>215644</td>\n",
       "      <td>25M</td>\n",
       "      <td>50,000,000+</td>\n",
       "      <td>Free</td>\n",
       "      <td>0</td>\n",
       "      <td>Teen</td>\n",
       "      <td>Art &amp; Design</td>\n",
       "      <td>June 8, 2018</td>\n",
       "      <td>Varies with device</td>\n",
       "      <td>4.2 and up</td>\n",
       "      <td>3</td>\n",
       "    </tr>\n",
       "    <tr>\n",
       "      <th>4</th>\n",
       "      <td>Pixel Draw - Number Art Coloring Book</td>\n",
       "      <td>ART_AND_DESIGN</td>\n",
       "      <td>4.3</td>\n",
       "      <td>967</td>\n",
       "      <td>2.8M</td>\n",
       "      <td>100,000+</td>\n",
       "      <td>Free</td>\n",
       "      <td>0</td>\n",
       "      <td>Everyone</td>\n",
       "      <td>Art &amp; Design;Creativity</td>\n",
       "      <td>June 20, 2018</td>\n",
       "      <td>1.1</td>\n",
       "      <td>4.4 and up</td>\n",
       "      <td>4</td>\n",
       "    </tr>\n",
       "  </tbody>\n",
       "</table>\n",
       "</div>"
      ],
      "text/plain": [
       "                                                 App        Category  Rating  \\\n",
       "0     Photo Editor & Candy Camera & Grid & ScrapBook  ART_AND_DESIGN     4.1   \n",
       "1                                Coloring book moana  ART_AND_DESIGN     3.9   \n",
       "2  U Launcher Lite – FREE Live Cool Themes, Hide ...  ART_AND_DESIGN     4.7   \n",
       "3                              Sketch - Draw & Paint  ART_AND_DESIGN     4.5   \n",
       "4              Pixel Draw - Number Art Coloring Book  ART_AND_DESIGN     4.3   \n",
       "\n",
       "  Reviews  Size     Installs  Type Price Content Rating  \\\n",
       "0     159   19M      10,000+  Free     0       Everyone   \n",
       "1     967   14M     500,000+  Free     0       Everyone   \n",
       "2   87510  8.7M   5,000,000+  Free     0       Everyone   \n",
       "3  215644   25M  50,000,000+  Free     0           Teen   \n",
       "4     967  2.8M     100,000+  Free     0       Everyone   \n",
       "\n",
       "                      Genres      Last Updated         Current Ver  \\\n",
       "0               Art & Design   January 7, 2018               1.0.0   \n",
       "1  Art & Design;Pretend Play  January 15, 2018               2.0.0   \n",
       "2               Art & Design    August 1, 2018               1.2.4   \n",
       "3               Art & Design      June 8, 2018  Varies with device   \n",
       "4    Art & Design;Creativity     June 20, 2018                 1.1   \n",
       "\n",
       "    Android Ver  index  \n",
       "0  4.0.3 and up      0  \n",
       "1  4.0.3 and up      1  \n",
       "2  4.0.3 and up      2  \n",
       "3    4.2 and up      3  \n",
       "4    4.4 and up      4  "
      ]
     },
     "execution_count": 40,
     "metadata": {},
     "output_type": "execute_result"
    }
   ],
   "source": [
    "df.head()"
   ]
  },
  {
   "cell_type": "code",
   "execution_count": 41,
   "id": "58ba3858",
   "metadata": {},
   "outputs": [
    {
     "data": {
      "text/plain": [
       "Everyone           8714\n",
       "Teen               1208\n",
       "Mature 17+          499\n",
       "Everyone 10+        414\n",
       "Adults only 18+       3\n",
       "Unrated               2\n",
       "Name: Content Rating, dtype: int64"
      ]
     },
     "execution_count": 41,
     "metadata": {},
     "output_type": "execute_result"
    }
   ],
   "source": [
    "df['Content Rating'].value_counts()"
   ]
  },
  {
   "cell_type": "code",
   "execution_count": 42,
   "id": "a38fc57f",
   "metadata": {},
   "outputs": [],
   "source": [
    "# вопрос: отличается ли рейтинг приложений у категорий контента для подростков (Teen) и взрослых (Mature 17+)\n",
    "# создадим датафреймы: \n",
    "teens = df[(df['Content Rating'] == \"Teen\")]\n",
    "matures = df[(df['Content Rating'] == \"Mature 17+\")]\n",
    "\n"
   ]
  },
  {
   "cell_type": "code",
   "execution_count": 43,
   "id": "a3880864",
   "metadata": {},
   "outputs": [
    {
     "name": "stderr",
     "output_type": "stream",
     "text": [
      "/var/folders/vy/dqjs80ms1kg43qy8g1wp0x1m0000gn/T/ipykernel_55538/2385376544.py:1: SettingWithCopyWarning: \n",
      "A value is trying to be set on a copy of a slice from a DataFrame.\n",
      "Try using .loc[row_indexer,col_indexer] = value instead\n",
      "\n",
      "See the caveats in the documentation: https://pandas.pydata.org/pandas-docs/stable/user_guide/indexing.html#returning-a-view-versus-a-copy\n",
      "  teens['Rating'] = teens['Rating'].astype(float)\n",
      "/var/folders/vy/dqjs80ms1kg43qy8g1wp0x1m0000gn/T/ipykernel_55538/2385376544.py:2: SettingWithCopyWarning: \n",
      "A value is trying to be set on a copy of a slice from a DataFrame.\n",
      "Try using .loc[row_indexer,col_indexer] = value instead\n",
      "\n",
      "See the caveats in the documentation: https://pandas.pydata.org/pandas-docs/stable/user_guide/indexing.html#returning-a-view-versus-a-copy\n",
      "  matures['Rating'] = matures['Rating'].astype(float)\n"
     ]
    }
   ],
   "source": [
    "teens['Rating'] = teens['Rating'].astype(float)\n",
    "matures['Rating'] = matures['Rating'].astype(float)\n"
   ]
  },
  {
   "cell_type": "code",
   "execution_count": 44,
   "id": "0f5cd3ec",
   "metadata": {},
   "outputs": [],
   "source": [
    "teens = teens.dropna()\n",
    "matures = matures.dropna()"
   ]
  },
  {
   "cell_type": "code",
   "execution_count": 45,
   "id": "2695f8dc",
   "metadata": {},
   "outputs": [
    {
     "data": {
      "text/plain": [
       "<Axes: ylabel='Rating'>"
      ]
     },
     "execution_count": 45,
     "metadata": {},
     "output_type": "execute_result"
    },
    {
     "data": {
      "image/png": "[encoded data removed]",
      "text/plain": [
       "<Figure size 640x480 with 1 Axes>"
      ]
     },
     "metadata": {},
     "output_type": "display_data"
    }
   ],
   "source": [
    "sns.boxplot(y=teens.Rating)"
   ]
  },
  {
   "cell_type": "code",
   "execution_count": 46,
   "id": "140f147d",
   "metadata": {},
   "outputs": [
    {
     "data": {
      "text/plain": [
       "<Axes: ylabel='Rating'>"
      ]
     },
     "execution_count": 46,
     "metadata": {},
     "output_type": "execute_result"
    },
    {
     "data": {
      "image/png": "[encoded data removed]",
      "text/plain": [
       "<Figure size 640x480 with 1 Axes>"
      ]
     },
     "metadata": {},
     "output_type": "display_data"
    }
   ],
   "source": [
    "sns.boxplot(y=matures.Rating)"
   ]
  },
  {
   "cell_type": "code",
   "execution_count": 47,
   "id": "d1d8e257",
   "metadata": {},
   "outputs": [
    {
     "name": "stdout",
     "output_type": "stream",
     "text": [
      "<class 'pandas.core.frame.DataFrame'>\n",
      "Int64Index: 1084 entries, 3 to 10820\n",
      "Data columns (total 14 columns):\n",
      " #   Column          Non-Null Count  Dtype  \n",
      "---  ------          --------------  -----  \n",
      " 0   App             1084 non-null   object \n",
      " 1   Category        1084 non-null   object \n",
      " 2   Rating          1084 non-null   float64\n",
      " 3   Reviews         1084 non-null   object \n",
      " 4   Size            1084 non-null   object \n",
      " 5   Installs        1084 non-null   object \n",
      " 6   Type            1084 non-null   object \n",
      " 7   Price           1084 non-null   object \n",
      " 8   Content Rating  1084 non-null   object \n",
      " 9   Genres          1084 non-null   object \n",
      " 10  Last Updated    1084 non-null   object \n",
      " 11  Current Ver     1084 non-null   object \n",
      " 12  Android Ver     1084 non-null   object \n",
      " 13  index           1084 non-null   int64  \n",
      "dtypes: float64(1), int64(1), object(12)\n",
      "memory usage: 127.0+ KB\n"
     ]
    }
   ],
   "source": [
    "teens.info()"
   ]
  },
  {
   "cell_type": "code",
   "execution_count": 48,
   "id": "332f883d",
   "metadata": {},
   "outputs": [
    {
     "data": {
      "text/plain": [
       "(0.9337953329086304, 1.624694198566385e-21)"
      ]
     },
     "execution_count": 48,
     "metadata": {},
     "output_type": "execute_result"
    }
   ],
   "source": [
    "# непонятно по графику, нормальны ли распределения, проведем тест Шапиро-Уилка\n",
    "statistic, p_value = stats.shapiro(teens.Rating)\n",
    "statistic, p_value"
   ]
  },
  {
   "cell_type": "code",
   "execution_count": 49,
   "id": "0ee7e5c9",
   "metadata": {},
   "outputs": [
    {
     "data": {
      "text/plain": [
       "(0.8778104782104492, 1.3297999545683176e-18)"
      ]
     },
     "execution_count": 49,
     "metadata": {},
     "output_type": "execute_result"
    }
   ],
   "source": [
    "statistic, p_value = stats.shapiro(matures.Rating)\n",
    "statistic, p_value"
   ]
  },
  {
   "cell_type": "code",
   "execution_count": 50,
   "id": "a8f5d649",
   "metadata": {},
   "outputs": [
    {
     "data": {
      "text/plain": [
       "MannwhitneyuResult(statistic=280850.0, pvalue=0.00010546363019644629)"
      ]
     },
     "execution_count": 50,
     "metadata": {},
     "output_type": "execute_result"
    }
   ],
   "source": [
    "# распределения ненормальны, считаем разницу критерием Манна-Уитни\n",
    "stats.mannwhitneyu(teens.Rating, matures.Rating, alternative='two-sided')"
   ]
  },
  {
   "cell_type": "markdown",
   "id": "77642587",
   "metadata": {},
   "source": [
    "## Вывод:  рейтинг приложений у категорий контента для подростков (Teen) и взрослых (Mature 17+) значимо различается, так как pvalue<0.05"
   ]
  },
  {
   "cell_type": "code",
   "execution_count": null,
   "id": "3d1eed58",
   "metadata": {},
   "outputs": [],
   "source": []
  },
  {
   "cell_type": "code",
   "execution_count": null,
   "id": "2415433b",
   "metadata": {},
   "outputs": [],
   "source": []
  },
  {
   "cell_type": "code",
   "execution_count": null,
   "id": "17f3043c",
   "metadata": {},
   "outputs": [],
   "source": []
  }
 ],
 "metadata": {
  "kernelspec": {
   "display_name": "Python 3 (ipykernel)",
   "language": "python",
   "name": "python3"
  },
  "language_info": {
   "codemirror_mode": {
    "name": "ipython",
    "version": 3
   },
   "file_extension": ".py",
   "mimetype": "text/x-python",
   "name": "python",
   "nbconvert_exporter": "python",
   "pygments_lexer": "ipython3",
   "version": "3.10.10"
  }
 },
 "nbformat": 4,
 "nbformat_minor": 5
}
