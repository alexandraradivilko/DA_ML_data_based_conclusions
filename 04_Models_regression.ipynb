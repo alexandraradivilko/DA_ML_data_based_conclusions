{
 "cells": [
  {
   "cell_type": "code",
   "execution_count": 1,
   "id": "c20df2b2",
   "metadata": {},
   "outputs": [],
   "source": [
    "\n",
    "import numpy as np\n",
    "import pandas as pd\n",
    "from scipy import stats\n",
    "import seaborn as sns\n",
    "import matplotlib as mpl\n",
    "%matplotlib inline\n",
    "import matplotlib.pyplot as plt"
   ]
  },
  {
   "cell_type": "markdown",
   "id": "7c8e9544",
   "metadata": {},
   "source": [
    "## Сделайте предсказание успешности поста на Facebook на нескольких переменных. \n",
    "#### Вы можете использовать любой показатель успешности, любой набор предикторов, любые преобразования, главное - пояснить свой выбор. \n",
    "Используйте библиотеку statsmodels и не забудьте удалить все лишнее"
   ]
  },
  {
   "cell_type": "code",
   "execution_count": 2,
   "id": "6cbc50ea",
   "metadata": {},
   "outputs": [
    {
     "data": {
      "text/html": [
       "<div>\n",
       "<style scoped>\n",
       "    .dataframe tbody tr th:only-of-type {\n",
       "        vertical-align: middle;\n",
       "    }\n",
       "\n",
       "    .dataframe tbody tr th {\n",
       "        vertical-align: top;\n",
       "    }\n",
       "\n",
       "    .dataframe thead th {\n",
       "        text-align: right;\n",
       "    }\n",
       "</style>\n",
       "<table border=\"1\" class=\"dataframe\">\n",
       "  <thead>\n",
       "    <tr style=\"text-align: right;\">\n",
       "      <th></th>\n",
       "      <th>Page total likes</th>\n",
       "      <th>Type</th>\n",
       "      <th>Category</th>\n",
       "      <th>Post Month</th>\n",
       "      <th>Post Weekday</th>\n",
       "      <th>Post Hour</th>\n",
       "      <th>Paid</th>\n",
       "      <th>Lifetime Post Total Reach</th>\n",
       "      <th>Lifetime Post Total Impressions</th>\n",
       "      <th>Lifetime Engaged Users</th>\n",
       "      <th>Lifetime Post Consumers</th>\n",
       "      <th>Lifetime Post Consumptions</th>\n",
       "      <th>Lifetime Post Impressions by people who have liked your Page</th>\n",
       "      <th>Lifetime Post reach by people who like your Page</th>\n",
       "      <th>Lifetime People who have liked your Page and engaged with your post</th>\n",
       "      <th>comment</th>\n",
       "      <th>like</th>\n",
       "      <th>share</th>\n",
       "      <th>Total Interactions</th>\n",
       "    </tr>\n",
       "  </thead>\n",
       "  <tbody>\n",
       "    <tr>\n",
       "      <th>0</th>\n",
       "      <td>139441</td>\n",
       "      <td>Photo</td>\n",
       "      <td>2</td>\n",
       "      <td>12</td>\n",
       "      <td>4</td>\n",
       "      <td>3</td>\n",
       "      <td>0.0</td>\n",
       "      <td>2752</td>\n",
       "      <td>5091</td>\n",
       "      <td>178</td>\n",
       "      <td>109</td>\n",
       "      <td>159</td>\n",
       "      <td>3078</td>\n",
       "      <td>1640</td>\n",
       "      <td>119</td>\n",
       "      <td>4</td>\n",
       "      <td>79.0</td>\n",
       "      <td>17.0</td>\n",
       "      <td>100</td>\n",
       "    </tr>\n",
       "    <tr>\n",
       "      <th>1</th>\n",
       "      <td>139441</td>\n",
       "      <td>Status</td>\n",
       "      <td>2</td>\n",
       "      <td>12</td>\n",
       "      <td>3</td>\n",
       "      <td>10</td>\n",
       "      <td>0.0</td>\n",
       "      <td>10460</td>\n",
       "      <td>19057</td>\n",
       "      <td>1457</td>\n",
       "      <td>1361</td>\n",
       "      <td>1674</td>\n",
       "      <td>11710</td>\n",
       "      <td>6112</td>\n",
       "      <td>1108</td>\n",
       "      <td>5</td>\n",
       "      <td>130.0</td>\n",
       "      <td>29.0</td>\n",
       "      <td>164</td>\n",
       "    </tr>\n",
       "    <tr>\n",
       "      <th>2</th>\n",
       "      <td>139441</td>\n",
       "      <td>Photo</td>\n",
       "      <td>3</td>\n",
       "      <td>12</td>\n",
       "      <td>3</td>\n",
       "      <td>3</td>\n",
       "      <td>0.0</td>\n",
       "      <td>2413</td>\n",
       "      <td>4373</td>\n",
       "      <td>177</td>\n",
       "      <td>113</td>\n",
       "      <td>154</td>\n",
       "      <td>2812</td>\n",
       "      <td>1503</td>\n",
       "      <td>132</td>\n",
       "      <td>0</td>\n",
       "      <td>66.0</td>\n",
       "      <td>14.0</td>\n",
       "      <td>80</td>\n",
       "    </tr>\n",
       "    <tr>\n",
       "      <th>3</th>\n",
       "      <td>139441</td>\n",
       "      <td>Photo</td>\n",
       "      <td>2</td>\n",
       "      <td>12</td>\n",
       "      <td>2</td>\n",
       "      <td>10</td>\n",
       "      <td>1.0</td>\n",
       "      <td>50128</td>\n",
       "      <td>87991</td>\n",
       "      <td>2211</td>\n",
       "      <td>790</td>\n",
       "      <td>1119</td>\n",
       "      <td>61027</td>\n",
       "      <td>32048</td>\n",
       "      <td>1386</td>\n",
       "      <td>58</td>\n",
       "      <td>1572.0</td>\n",
       "      <td>147.0</td>\n",
       "      <td>1777</td>\n",
       "    </tr>\n",
       "    <tr>\n",
       "      <th>4</th>\n",
       "      <td>139441</td>\n",
       "      <td>Photo</td>\n",
       "      <td>2</td>\n",
       "      <td>12</td>\n",
       "      <td>2</td>\n",
       "      <td>3</td>\n",
       "      <td>0.0</td>\n",
       "      <td>7244</td>\n",
       "      <td>13594</td>\n",
       "      <td>671</td>\n",
       "      <td>410</td>\n",
       "      <td>580</td>\n",
       "      <td>6228</td>\n",
       "      <td>3200</td>\n",
       "      <td>396</td>\n",
       "      <td>19</td>\n",
       "      <td>325.0</td>\n",
       "      <td>49.0</td>\n",
       "      <td>393</td>\n",
       "    </tr>\n",
       "  </tbody>\n",
       "</table>\n",
       "</div>"
      ],
      "text/plain": [
       "   Page total likes    Type  Category  Post Month  Post Weekday  Post Hour  \\\n",
       "0            139441   Photo         2          12             4          3   \n",
       "1            139441  Status         2          12             3         10   \n",
       "2            139441   Photo         3          12             3          3   \n",
       "3            139441   Photo         2          12             2         10   \n",
       "4            139441   Photo         2          12             2          3   \n",
       "\n",
       "   Paid  Lifetime Post Total Reach  Lifetime Post Total Impressions  \\\n",
       "0   0.0                       2752                             5091   \n",
       "1   0.0                      10460                            19057   \n",
       "2   0.0                       2413                             4373   \n",
       "3   1.0                      50128                            87991   \n",
       "4   0.0                       7244                            13594   \n",
       "\n",
       "   Lifetime Engaged Users  Lifetime Post Consumers  \\\n",
       "0                     178                      109   \n",
       "1                    1457                     1361   \n",
       "2                     177                      113   \n",
       "3                    2211                      790   \n",
       "4                     671                      410   \n",
       "\n",
       "   Lifetime Post Consumptions  \\\n",
       "0                         159   \n",
       "1                        1674   \n",
       "2                         154   \n",
       "3                        1119   \n",
       "4                         580   \n",
       "\n",
       "   Lifetime Post Impressions by people who have liked your Page  \\\n",
       "0                                               3078              \n",
       "1                                              11710              \n",
       "2                                               2812              \n",
       "3                                              61027              \n",
       "4                                               6228              \n",
       "\n",
       "   Lifetime Post reach by people who like your Page  \\\n",
       "0                                              1640   \n",
       "1                                              6112   \n",
       "2                                              1503   \n",
       "3                                             32048   \n",
       "4                                              3200   \n",
       "\n",
       "   Lifetime People who have liked your Page and engaged with your post  \\\n",
       "0                                                119                     \n",
       "1                                               1108                     \n",
       "2                                                132                     \n",
       "3                                               1386                     \n",
       "4                                                396                     \n",
       "\n",
       "   comment    like  share  Total Interactions  \n",
       "0        4    79.0   17.0                 100  \n",
       "1        5   130.0   29.0                 164  \n",
       "2        0    66.0   14.0                  80  \n",
       "3       58  1572.0  147.0                1777  \n",
       "4       19   325.0   49.0                 393  "
      ]
     },
     "execution_count": 2,
     "metadata": {},
     "output_type": "execute_result"
    }
   ],
   "source": [
    "df = pd.read_csv('dataset_Facebook.csv', sep = ';')\n",
    "df.head()"
   ]
  },
  {
   "cell_type": "code",
   "execution_count": null,
   "id": "f62ccf10",
   "metadata": {},
   "outputs": [],
   "source": []
  },
  {
   "cell_type": "code",
   "execution_count": 3,
   "id": "1c700dca",
   "metadata": {},
   "outputs": [],
   "source": [
    "df.columns = ['TotalLikes', 'Type', 'Category', 'Month', 'Weekday', 'Hour','Paid', 'Reach', 'Impressions','Engaged',\n",
    "             'Consumers', 'Consumptions', 'ImpessionsLiked', 'ReachLiked', 'EngagedLiked', 'comment', 'like', 'share', 'total']"
   ]
  },
  {
   "cell_type": "code",
   "execution_count": 4,
   "id": "0530faaa",
   "metadata": {},
   "outputs": [
    {
     "name": "stdout",
     "output_type": "stream",
     "text": [
      "<class 'pandas.core.frame.DataFrame'>\n",
      "RangeIndex: 500 entries, 0 to 499\n",
      "Data columns (total 19 columns):\n",
      " #   Column           Non-Null Count  Dtype  \n",
      "---  ------           --------------  -----  \n",
      " 0   TotalLikes       500 non-null    int64  \n",
      " 1   Type             500 non-null    object \n",
      " 2   Category         500 non-null    int64  \n",
      " 3   Month            500 non-null    int64  \n",
      " 4   Weekday          500 non-null    int64  \n",
      " 5   Hour             500 non-null    int64  \n",
      " 6   Paid             499 non-null    float64\n",
      " 7   Reach            500 non-null    int64  \n",
      " 8   Impressions      500 non-null    int64  \n",
      " 9   Engaged          500 non-null    int64  \n",
      " 10  Consumers        500 non-null    int64  \n",
      " 11  Consumptions     500 non-null    int64  \n",
      " 12  ImpessionsLiked  500 non-null    int64  \n",
      " 13  ReachLiked       500 non-null    int64  \n",
      " 14  EngagedLiked     500 non-null    int64  \n",
      " 15  comment          500 non-null    int64  \n",
      " 16  like             499 non-null    float64\n",
      " 17  share            496 non-null    float64\n",
      " 18  total            500 non-null    int64  \n",
      "dtypes: float64(3), int64(15), object(1)\n",
      "memory usage: 74.3+ KB\n"
     ]
    }
   ],
   "source": [
    "df.info()"
   ]
  },
  {
   "cell_type": "markdown",
   "id": "53149502",
   "metadata": {},
   "source": [
    "Для целевой переменной я взяла количество лайков у поста, так как это важный показатель, отражающий многие факторы в соцсетях и, главное, поддающийся оценке. В качестве объясняющих переменных я выбрала номер месяца, день недели и час, так как эти переменные могут оказывать влияние на активность пользователей в социальных сетях. Номер месяца может отражать сезонные тренды, день недели показывает дни с повышенной активностью пользователей (например, выходные), час дня может отражать пики активности пользователей (например, вечер). "
   ]
  },
  {
   "cell_type": "code",
   "execution_count": 5,
   "id": "1c2c3b4f",
   "metadata": {},
   "outputs": [
    {
     "data": {
      "text/html": [
       "<table class=\"simpletable\">\n",
       "<caption>OLS Regression Results</caption>\n",
       "<tr>\n",
       "  <th>Dep. Variable:</th>          <td>like</td>       <th>  R-squared:         </th> <td>   0.008</td>\n",
       "</tr>\n",
       "<tr>\n",
       "  <th>Model:</th>                   <td>OLS</td>       <th>  Adj. R-squared:    </th> <td>   0.002</td>\n",
       "</tr>\n",
       "<tr>\n",
       "  <th>Method:</th>             <td>Least Squares</td>  <th>  F-statistic:       </th> <td>   1.291</td>\n",
       "</tr>\n",
       "<tr>\n",
       "  <th>Date:</th>             <td>Wed, 25 Oct 2023</td> <th>  Prob (F-statistic):</th>  <td> 0.277</td> \n",
       "</tr>\n",
       "<tr>\n",
       "  <th>Time:</th>                 <td>23:43:51</td>     <th>  Log-Likelihood:    </th> <td> -3589.3</td>\n",
       "</tr>\n",
       "<tr>\n",
       "  <th>No. Observations:</th>      <td>   499</td>      <th>  AIC:               </th> <td>   7187.</td>\n",
       "</tr>\n",
       "<tr>\n",
       "  <th>Df Residuals:</th>          <td>   495</td>      <th>  BIC:               </th> <td>   7203.</td>\n",
       "</tr>\n",
       "<tr>\n",
       "  <th>Df Model:</th>              <td>     3</td>      <th>                     </th>     <td> </td>   \n",
       "</tr>\n",
       "<tr>\n",
       "  <th>Covariance Type:</th>      <td>nonrobust</td>    <th>                     </th>     <td> </td>   \n",
       "</tr>\n",
       "</table>\n",
       "<table class=\"simpletable\">\n",
       "<tr>\n",
       "      <td></td>         <th>coef</th>     <th>std err</th>      <th>t</th>      <th>P>|t|</th>  <th>[0.025</th>    <th>0.975]</th>  \n",
       "</tr>\n",
       "<tr>\n",
       "  <th>Intercept</th> <td>  225.1442</td> <td>   54.151</td> <td>    4.158</td> <td> 0.000</td> <td>  118.751</td> <td>  331.538</td>\n",
       "</tr>\n",
       "<tr>\n",
       "  <th>Month</th>     <td>    2.3438</td> <td>    4.447</td> <td>    0.527</td> <td> 0.598</td> <td>   -6.394</td> <td>   11.082</td>\n",
       "</tr>\n",
       "<tr>\n",
       "  <th>Weekday</th>   <td>  -13.0463</td> <td>    7.138</td> <td>   -1.828</td> <td> 0.068</td> <td>  -27.072</td> <td>    0.979</td>\n",
       "</tr>\n",
       "<tr>\n",
       "  <th>Hour</th>      <td>   -1.2228</td> <td>    3.368</td> <td>   -0.363</td> <td> 0.717</td> <td>   -7.840</td> <td>    5.395</td>\n",
       "</tr>\n",
       "</table>\n",
       "<table class=\"simpletable\">\n",
       "<tr>\n",
       "  <th>Omnibus:</th>       <td>790.854</td> <th>  Durbin-Watson:     </th>  <td>   1.992</td> \n",
       "</tr>\n",
       "<tr>\n",
       "  <th>Prob(Omnibus):</th> <td> 0.000</td>  <th>  Jarque-Bera (JB):  </th> <td>295485.250</td>\n",
       "</tr>\n",
       "<tr>\n",
       "  <th>Skew:</th>          <td> 8.894</td>  <th>  Prob(JB):          </th>  <td>    0.00</td> \n",
       "</tr>\n",
       "<tr>\n",
       "  <th>Kurtosis:</th>      <td>120.878</td> <th>  Cond. No.          </th>  <td>    44.7</td> \n",
       "</tr>\n",
       "</table><br/><br/>Notes:<br/>[1] Standard Errors assume that the covariance matrix of the errors is correctly specified."
      ],
      "text/plain": [
       "<class 'statsmodels.iolib.summary.Summary'>\n",
       "\"\"\"\n",
       "                            OLS Regression Results                            \n",
       "==============================================================================\n",
       "Dep. Variable:                   like   R-squared:                       0.008\n",
       "Model:                            OLS   Adj. R-squared:                  0.002\n",
       "Method:                 Least Squares   F-statistic:                     1.291\n",
       "Date:                Wed, 25 Oct 2023   Prob (F-statistic):              0.277\n",
       "Time:                        23:43:51   Log-Likelihood:                -3589.3\n",
       "No. Observations:                 499   AIC:                             7187.\n",
       "Df Residuals:                     495   BIC:                             7203.\n",
       "Df Model:                           3                                         \n",
       "Covariance Type:            nonrobust                                         \n",
       "==============================================================================\n",
       "                 coef    std err          t      P>|t|      [0.025      0.975]\n",
       "------------------------------------------------------------------------------\n",
       "Intercept    225.1442     54.151      4.158      0.000     118.751     331.538\n",
       "Month          2.3438      4.447      0.527      0.598      -6.394      11.082\n",
       "Weekday      -13.0463      7.138     -1.828      0.068     -27.072       0.979\n",
       "Hour          -1.2228      3.368     -0.363      0.717      -7.840       5.395\n",
       "==============================================================================\n",
       "Omnibus:                      790.854   Durbin-Watson:                   1.992\n",
       "Prob(Omnibus):                  0.000   Jarque-Bera (JB):           295485.250\n",
       "Skew:                           8.894   Prob(JB):                         0.00\n",
       "Kurtosis:                     120.878   Cond. No.                         44.7\n",
       "==============================================================================\n",
       "\n",
       "Notes:\n",
       "[1] Standard Errors assume that the covariance matrix of the errors is correctly specified.\n",
       "\"\"\""
      ]
     },
     "execution_count": 5,
     "metadata": {},
     "output_type": "execute_result"
    }
   ],
   "source": [
    "import statsmodels.formula.api as smf\n",
    "model = smf.ols('like~Month + Weekday + Hour', data = df).fit()\n",
    "model.summary()"
   ]
  },
  {
   "cell_type": "markdown",
   "id": "0136f237",
   "metadata": {},
   "source": [
    "Исходя из данных, можно сделать следующие выводы:\n",
    "\n",
    "- Значение R-квадрата составляет 0.008, что указывает на то, что модель объясняет только небольшую часть изменчивости зависимой переменной.\n",
    "- Скорректированное значение R-квадрата составляет 0.002 - что модель не учитывает большую часть изменчивости с учетом числа предикторов.\n",
    "- F-статистика - 1.291, и соответствующее значение вероятности составляет 0.277. Это говорит о том, что модель не является статистически значимой и не предоставляет достаточно доказательств в пользу значимого влияния предикторов на зависимую переменную.\n",
    "\n",
    "- Тест Omnibus показывает, что остатки не имеют нормальное распределение (Prob(Omnibus) близко к 0).\n",
    "- Значение Skew говорит о наличии асимметрии в данных.\n",
    "- Значение Kurtosis указывает на высокий эксцесс, что может означать наличие выбросов.\n",
    "- Тест Durbin-Watson показывает независимость остатков (значение находится в промежутке между 1 и 2).\n",
    "- Тест Jarque-Bera также указывает на ненормальность остатков (Prob(JB) близко к 0).\n",
    "- Значение Condition Number (44.7) свидетельствует о наличии мультиколлинеарности."
   ]
  },
  {
   "cell_type": "code",
   "execution_count": 6,
   "id": "56e9e608",
   "metadata": {},
   "outputs": [
    {
     "data": {
      "image/png": "[encoded data removed]",
      "text/plain": [
       "<Figure size 640x480 with 1 Axes>"
      ]
     },
     "metadata": {},
     "output_type": "display_data"
    }
   ],
   "source": [
    "piv_week = df.pivot_table(\n",
    "    index='Weekday',\n",
    "    values='like',\n",
    "    aggfunc='mean'\n",
    ")\n",
    "piv_week.plot(kind='bar')\n",
    "\n",
    "plt.xlabel('День недели')\n",
    "plt.ylabel('Среднее количество лайков')\n",
    "plt.title('Среднее количество лайков по дням недели')\n",
    "\n",
    "plt.show()\n"
   ]
  },
  {
   "cell_type": "markdown",
   "id": "d2697811",
   "metadata": {},
   "source": [
    "Наблюдается снижение в первые два дня недели, повышение на 3 день, а затем плавное снижение до конца недели"
   ]
  },
  {
   "cell_type": "code",
   "execution_count": 7,
   "id": "81e6f136",
   "metadata": {},
   "outputs": [
    {
     "data": {
      "image/png": "[encoded data removed]",
      "text/plain": [
       "<Figure size 640x480 with 1 Axes>"
      ]
     },
     "metadata": {},
     "output_type": "display_data"
    }
   ],
   "source": [
    "piv_mon = df.pivot_table(\n",
    "    index='Month',\n",
    "    values='like',\n",
    "    aggfunc='mean'\n",
    ")\n",
    "piv_mon.plot(kind='bar')\n",
    "\n",
    "plt.xlabel('Месяц')\n",
    "plt.ylabel('Среднее количество лайков')\n",
    "plt.title('Среднее количество лайков по месяцам')\n",
    "\n",
    "plt.show()\n"
   ]
  },
  {
   "cell_type": "markdown",
   "id": "e4880cc1",
   "metadata": {},
   "source": [
    "Сложно выявить закономерность по дням месяца, видно, что нет какой-то тенденции к изменению"
   ]
  },
  {
   "cell_type": "code",
   "execution_count": 8,
   "id": "275997b9",
   "metadata": {},
   "outputs": [
    {
     "data": {
      "image/png": "[encoded data removed]",
      "text/plain": [
       "<Figure size 640x480 with 1 Axes>"
      ]
     },
     "metadata": {},
     "output_type": "display_data"
    }
   ],
   "source": [
    "piv_h = df.pivot_table(\n",
    "    index='Hour',\n",
    "    values='like',\n",
    "    aggfunc='mean'\n",
    ")\n",
    "piv_h.plot(kind='bar')\n",
    "\n",
    "plt.xlabel('Час')\n",
    "plt.ylabel('Среднее количество лайков')\n",
    "plt.title('Среднее количество лайков по часу')\n",
    "\n",
    "plt.show()"
   ]
  },
  {
   "cell_type": "markdown",
   "id": "ebad655e",
   "metadata": {},
   "source": [
    "Пик активности приходится на 5 часов, меньше всего - в 19ч. Остальное время распределено примерно одинаково"
   ]
  },
  {
   "cell_type": "code",
   "execution_count": 9,
   "id": "f37e1f55",
   "metadata": {},
   "outputs": [
    {
     "data": {
      "image/png": "[encoded data removed]",
      "text/plain": [
       "<Figure size 640x480 with 1 Axes>"
      ]
     },
     "metadata": {},
     "output_type": "display_data"
    }
   ],
   "source": [
    "# Вторая модель: добавим количество репостов - повышающих охват, а значит, и кол-во лайков\n",
    "plt.scatter(df['share'], df['like'])\n",
    "plt.xlabel('Shares')\n",
    "plt.ylabel('Likes')\n",
    "plt.title('Share and Likes Scatter Plot')\n",
    "plt.show()"
   ]
  },
  {
   "cell_type": "markdown",
   "id": "36690fc0",
   "metadata": {},
   "source": [
    "Похоже, что есть зависимость лайков от репостов"
   ]
  },
  {
   "cell_type": "code",
   "execution_count": 10,
   "id": "5fa3ea87",
   "metadata": {},
   "outputs": [
    {
     "data": {
      "text/html": [
       "<table class=\"simpletable\">\n",
       "<caption>OLS Regression Results</caption>\n",
       "<tr>\n",
       "  <th>Dep. Variable:</th>          <td>like</td>       <th>  R-squared:         </th> <td>   0.822</td> \n",
       "</tr>\n",
       "<tr>\n",
       "  <th>Model:</th>                   <td>OLS</td>       <th>  Adj. R-squared:    </th> <td>   0.821</td> \n",
       "</tr>\n",
       "<tr>\n",
       "  <th>Method:</th>             <td>Least Squares</td>  <th>  F-statistic:       </th> <td>   568.5</td> \n",
       "</tr>\n",
       "<tr>\n",
       "  <th>Date:</th>             <td>Wed, 25 Oct 2023</td> <th>  Prob (F-statistic):</th> <td>1.07e-182</td>\n",
       "</tr>\n",
       "<tr>\n",
       "  <th>Time:</th>                 <td>23:43:52</td>     <th>  Log-Likelihood:    </th> <td> -3142.1</td> \n",
       "</tr>\n",
       "<tr>\n",
       "  <th>No. Observations:</th>      <td>   496</td>      <th>  AIC:               </th> <td>   6294.</td> \n",
       "</tr>\n",
       "<tr>\n",
       "  <th>Df Residuals:</th>          <td>   491</td>      <th>  BIC:               </th> <td>   6315.</td> \n",
       "</tr>\n",
       "<tr>\n",
       "  <th>Df Model:</th>              <td>     4</td>      <th>                     </th>     <td> </td>    \n",
       "</tr>\n",
       "<tr>\n",
       "  <th>Covariance Type:</th>      <td>nonrobust</td>    <th>                     </th>     <td> </td>    \n",
       "</tr>\n",
       "</table>\n",
       "<table class=\"simpletable\">\n",
       "<tr>\n",
       "      <td></td>         <th>coef</th>     <th>std err</th>      <th>t</th>      <th>P>|t|</th>  <th>[0.025</th>    <th>0.975]</th>  \n",
       "</tr>\n",
       "<tr>\n",
       "  <th>Intercept</th> <td>  -45.7427</td> <td>   23.721</td> <td>   -1.928</td> <td> 0.054</td> <td>  -92.350</td> <td>    0.865</td>\n",
       "</tr>\n",
       "<tr>\n",
       "  <th>Month</th>     <td>    5.4419</td> <td>    1.892</td> <td>    2.876</td> <td> 0.004</td> <td>    1.724</td> <td>    9.160</td>\n",
       "</tr>\n",
       "<tr>\n",
       "  <th>Weekday</th>   <td>   -5.9986</td> <td>    3.045</td> <td>   -1.970</td> <td> 0.049</td> <td>  -11.982</td> <td>   -0.015</td>\n",
       "</tr>\n",
       "<tr>\n",
       "  <th>Hour</th>      <td>    2.9959</td> <td>    1.433</td> <td>    2.091</td> <td> 0.037</td> <td>    0.180</td> <td>    5.811</td>\n",
       "</tr>\n",
       "<tr>\n",
       "  <th>share</th>     <td>    6.8893</td> <td>    0.145</td> <td>   47.473</td> <td> 0.000</td> <td>    6.604</td> <td>    7.174</td>\n",
       "</tr>\n",
       "</table>\n",
       "<table class=\"simpletable\">\n",
       "<tr>\n",
       "  <th>Omnibus:</th>       <td>405.468</td> <th>  Durbin-Watson:     </th> <td>   1.907</td> \n",
       "</tr>\n",
       "<tr>\n",
       "  <th>Prob(Omnibus):</th> <td> 0.000</td>  <th>  Jarque-Bera (JB):  </th> <td>10598.385</td>\n",
       "</tr>\n",
       "<tr>\n",
       "  <th>Skew:</th>          <td> 3.370</td>  <th>  Prob(JB):          </th> <td>    0.00</td> \n",
       "</tr>\n",
       "<tr>\n",
       "  <th>Kurtosis:</th>      <td>24.620</td>  <th>  Cond. No.          </th> <td>    197.</td> \n",
       "</tr>\n",
       "</table><br/><br/>Notes:<br/>[1] Standard Errors assume that the covariance matrix of the errors is correctly specified."
      ],
      "text/plain": [
       "<class 'statsmodels.iolib.summary.Summary'>\n",
       "\"\"\"\n",
       "                            OLS Regression Results                            \n",
       "==============================================================================\n",
       "Dep. Variable:                   like   R-squared:                       0.822\n",
       "Model:                            OLS   Adj. R-squared:                  0.821\n",
       "Method:                 Least Squares   F-statistic:                     568.5\n",
       "Date:                Wed, 25 Oct 2023   Prob (F-statistic):          1.07e-182\n",
       "Time:                        23:43:52   Log-Likelihood:                -3142.1\n",
       "No. Observations:                 496   AIC:                             6294.\n",
       "Df Residuals:                     491   BIC:                             6315.\n",
       "Df Model:                           4                                         \n",
       "Covariance Type:            nonrobust                                         \n",
       "==============================================================================\n",
       "                 coef    std err          t      P>|t|      [0.025      0.975]\n",
       "------------------------------------------------------------------------------\n",
       "Intercept    -45.7427     23.721     -1.928      0.054     -92.350       0.865\n",
       "Month          5.4419      1.892      2.876      0.004       1.724       9.160\n",
       "Weekday       -5.9986      3.045     -1.970      0.049     -11.982      -0.015\n",
       "Hour           2.9959      1.433      2.091      0.037       0.180       5.811\n",
       "share          6.8893      0.145     47.473      0.000       6.604       7.174\n",
       "==============================================================================\n",
       "Omnibus:                      405.468   Durbin-Watson:                   1.907\n",
       "Prob(Omnibus):                  0.000   Jarque-Bera (JB):            10598.385\n",
       "Skew:                           3.370   Prob(JB):                         0.00\n",
       "Kurtosis:                      24.620   Cond. No.                         197.\n",
       "==============================================================================\n",
       "\n",
       "Notes:\n",
       "[1] Standard Errors assume that the covariance matrix of the errors is correctly specified.\n",
       "\"\"\""
      ]
     },
     "execution_count": 10,
     "metadata": {},
     "output_type": "execute_result"
    }
   ],
   "source": [
    "model2 = smf.ols('like~Month + Weekday + Hour + share', data = df).fit()\n",
    "model2.summary()"
   ]
  },
  {
   "cell_type": "markdown",
   "id": "dbdf8891",
   "metadata": {},
   "source": [
    "- R-квадрат равен 0.822, что означает, что 82.2% лайков объясняется независимыми переменными.\n",
    "- F-статистика = 568.5, а вероятность составляет 1.07e-182, что указывает на статистическую значимость модели.\n",
    "- Omnibus/Prob(Omnibus) тест показал, что распределение остатков не является нормальным, значение близко к нулю.\n",
    "- Skew показывает, что данные не симметричны.\n",
    "- Kurtosis указывает на высокий эксцесс данных.\n",
    "- Durbin-Watson тест показывает, что остатки имеют независимость и отсутствие автокорреляции.\n",
    "- Jarque-Bera (JB)/Prob(JB) тест также показывает, что распределение остатков не является нормальным, так как значение Prob(JB) близко к нулю.\n",
    "- Значение Condition Number указывает на умеренную чувствительность результата к изменениям предикторов.\n",
    "\n",
    "## Таким образом, несмотря на некоторые ограничения (например, ненормальность остатков) модель 2 демонстрирует лучшие показатели по R-квадрат, F-статистике, Log-Likelihood, AIC и BIC, что говорит о ее лучшей предсказательной способности по сравнению с моделью 1. \n"
   ]
  }
 ],
 "metadata": {
  "kernelspec": {
   "display_name": "Python 3 (ipykernel)",
   "language": "python",
   "name": "python3"
  },
  "language_info": {
   "codemirror_mode": {
    "name": "ipython",
    "version": 3
   },
   "file_extension": ".py",
   "mimetype": "text/x-python",
   "name": "python",
   "nbconvert_exporter": "python",
   "pygments_lexer": "ipython3",
   "version": "3.10.10"
  }
 },
 "nbformat": 4,
 "nbformat_minor": 5
}
