{
 "cells": [
  {
   "cell_type": "code",
   "execution_count": 1,
   "id": "381a2841",
   "metadata": {},
   "outputs": [],
   "source": [
    "import numpy as np\n",
    "import pandas as pd\n",
    "from scipy import stats\n",
    "import seaborn as sns"
   ]
  },
  {
   "cell_type": "code",
   "execution_count": 2,
   "id": "e27a105e",
   "metadata": {},
   "outputs": [],
   "source": [
    "df = pd.read_csv(\"AdSmartABdata - AdSmartABdata.csv\")"
   ]
  },
  {
   "cell_type": "code",
   "execution_count": 11,
   "id": "13ea62b4",
   "metadata": {},
   "outputs": [
    {
     "data": {
      "text/html": [
       "<div>\n",
       "<style scoped>\n",
       "    .dataframe tbody tr th:only-of-type {\n",
       "        vertical-align: middle;\n",
       "    }\n",
       "\n",
       "    .dataframe tbody tr th {\n",
       "        vertical-align: top;\n",
       "    }\n",
       "\n",
       "    .dataframe thead th {\n",
       "        text-align: right;\n",
       "    }\n",
       "</style>\n",
       "<table border=\"1\" class=\"dataframe\">\n",
       "  <thead>\n",
       "    <tr style=\"text-align: right;\">\n",
       "      <th></th>\n",
       "      <th>auction_id</th>\n",
       "      <th>experiment</th>\n",
       "      <th>date</th>\n",
       "      <th>hour</th>\n",
       "      <th>device_make</th>\n",
       "      <th>platform_os</th>\n",
       "      <th>browser</th>\n",
       "      <th>yes</th>\n",
       "      <th>no</th>\n",
       "    </tr>\n",
       "  </thead>\n",
       "  <tbody>\n",
       "    <tr>\n",
       "      <th>0</th>\n",
       "      <td>0008ef63-77a7-448b-bd1e-075f42c55e39</td>\n",
       "      <td>exposed</td>\n",
       "      <td>2020-07-10</td>\n",
       "      <td>8</td>\n",
       "      <td>Generic Smartphone</td>\n",
       "      <td>6</td>\n",
       "      <td>Chrome Mobile</td>\n",
       "      <td>0</td>\n",
       "      <td>0</td>\n",
       "    </tr>\n",
       "    <tr>\n",
       "      <th>1</th>\n",
       "      <td>000eabc5-17ce-4137-8efe-44734d914446</td>\n",
       "      <td>exposed</td>\n",
       "      <td>2020-07-07</td>\n",
       "      <td>10</td>\n",
       "      <td>Generic Smartphone</td>\n",
       "      <td>6</td>\n",
       "      <td>Chrome Mobile</td>\n",
       "      <td>0</td>\n",
       "      <td>0</td>\n",
       "    </tr>\n",
       "    <tr>\n",
       "      <th>2</th>\n",
       "      <td>0016d14a-ae18-4a02-a204-6ba53b52f2ed</td>\n",
       "      <td>exposed</td>\n",
       "      <td>2020-07-05</td>\n",
       "      <td>2</td>\n",
       "      <td>E5823</td>\n",
       "      <td>6</td>\n",
       "      <td>Chrome Mobile WebView</td>\n",
       "      <td>0</td>\n",
       "      <td>1</td>\n",
       "    </tr>\n",
       "    <tr>\n",
       "      <th>3</th>\n",
       "      <td>00187412-2932-4542-a8ef-3633901c98d9</td>\n",
       "      <td>control</td>\n",
       "      <td>2020-07-03</td>\n",
       "      <td>15</td>\n",
       "      <td>Samsung SM-A705FN</td>\n",
       "      <td>6</td>\n",
       "      <td>Facebook</td>\n",
       "      <td>0</td>\n",
       "      <td>0</td>\n",
       "    </tr>\n",
       "    <tr>\n",
       "      <th>4</th>\n",
       "      <td>001a7785-d3fe-4e11-a344-c8735acacc2c</td>\n",
       "      <td>control</td>\n",
       "      <td>2020-07-03</td>\n",
       "      <td>15</td>\n",
       "      <td>Generic Smartphone</td>\n",
       "      <td>6</td>\n",
       "      <td>Chrome Mobile</td>\n",
       "      <td>0</td>\n",
       "      <td>0</td>\n",
       "    </tr>\n",
       "  </tbody>\n",
       "</table>\n",
       "</div>"
      ],
      "text/plain": [
       "                             auction_id experiment        date  hour  \\\n",
       "0  0008ef63-77a7-448b-bd1e-075f42c55e39    exposed  2020-07-10     8   \n",
       "1  000eabc5-17ce-4137-8efe-44734d914446    exposed  2020-07-07    10   \n",
       "2  0016d14a-ae18-4a02-a204-6ba53b52f2ed    exposed  2020-07-05     2   \n",
       "3  00187412-2932-4542-a8ef-3633901c98d9    control  2020-07-03    15   \n",
       "4  001a7785-d3fe-4e11-a344-c8735acacc2c    control  2020-07-03    15   \n",
       "\n",
       "          device_make  platform_os                browser  yes  no  \n",
       "0  Generic Smartphone            6          Chrome Mobile    0   0  \n",
       "1  Generic Smartphone            6          Chrome Mobile    0   0  \n",
       "2               E5823            6  Chrome Mobile WebView    0   1  \n",
       "3   Samsung SM-A705FN            6               Facebook    0   0  \n",
       "4  Generic Smartphone            6          Chrome Mobile    0   0  "
      ]
     },
     "execution_count": 11,
     "metadata": {},
     "output_type": "execute_result"
    }
   ],
   "source": [
    "df.head()"
   ]
  },
  {
   "cell_type": "markdown",
   "id": "29887774",
   "metadata": {},
   "source": [
    "## Проверьте, есть ли эффект от изменения (exposed группа)"
   ]
  },
  {
   "cell_type": "markdown",
   "id": "0c9fb080",
   "metadata": {},
   "source": [
    "контрольная группа: пользователи, которым была показана фиктивная реклама\n",
    "экспериментальная группа: пользователи, которым был показан креатив, интерактивная онлайн-реклама под брендом SmartAd.\n",
    "\n",
    "#### За метрику я беру показатель нажатия на кнопку \"Да\" при показе рекламы, так как я считаю, что конверсия из показа рекламы в прохождение тестирования - целевое действие."
   ]
  },
  {
   "cell_type": "code",
   "execution_count": 3,
   "id": "55ae7a71",
   "metadata": {},
   "outputs": [],
   "source": [
    "# создаем датафреймы\n",
    "exposed = df[df['experiment'] == 'exposed']\n",
    "control = df[df['experiment'] == 'control']"
   ]
  },
  {
   "cell_type": "code",
   "execution_count": 18,
   "id": "845a2345",
   "metadata": {},
   "outputs": [
    {
     "data": {
      "text/plain": [
       "0.07688467299051423"
      ]
     },
     "execution_count": 18,
     "metadata": {},
     "output_type": "execute_result"
    }
   ],
   "source": [
    "# конверсия в экспериментальной группе\n",
    "p = exposed.yes.mean()\n",
    "p"
   ]
  },
  {
   "cell_type": "code",
   "execution_count": 19,
   "id": "f76f0573",
   "metadata": {},
   "outputs": [
    {
     "data": {
      "text/plain": [
       "0.06484893146647015"
      ]
     },
     "execution_count": 19,
     "metadata": {},
     "output_type": "execute_result"
    }
   ],
   "source": [
    "# конверсия в контрольной группе\n",
    "pc = control.yes.mean()\n",
    "pc"
   ]
  },
  {
   "cell_type": "code",
   "execution_count": 6,
   "id": "1e0a99a6",
   "metadata": {},
   "outputs": [],
   "source": [
    "# число наблюдений в каждой из групп\n",
    "n = exposed.yes.count()\n",
    "nc = control.yes.count()"
   ]
  },
  {
   "cell_type": "code",
   "execution_count": 17,
   "id": "24e47c76",
   "metadata": {},
   "outputs": [
    {
     "data": {
      "image/png": "[encoded data removed]",
      "text/plain": [
       "<Figure size 640x480 with 1 Axes>"
      ]
     },
     "metadata": {},
     "output_type": "display_data"
    }
   ],
   "source": [
    "import matplotlib.pyplot as plt\n",
    "\n",
    "groups = ['Exposed', 'Control']\n",
    "\n",
    "conversion_rates = [p, pc]\n",
    "\n",
    "plt.bar(groups, conversion_rates)\n",
    "plt.xlabel('Группа')\n",
    "plt.ylabel('Конверсия')\n",
    "plt.title('Конверсия в экспериментальной и контрольной группах')\n",
    "# Adding value labels to the bar chart\n",
    "for i, v in enumerate(conversion_rates):\n",
    "    plt.text(i, v, str(round(v,2)), ha='center', va='bottom')\n",
    "plt.show()"
   ]
  },
  {
   "cell_type": "code",
   "execution_count": 7,
   "id": "6ee8bd17",
   "metadata": {},
   "outputs": [
    {
     "data": {
      "text/plain": [
       "0.07081837315835088"
      ]
     },
     "execution_count": 7,
     "metadata": {},
     "output_type": "execute_result"
    }
   ],
   "source": [
    "# Нулевая гипотеза: две конверсии равны\n",
    "# рассчитаем общую объединенную долю\n",
    "p = (p*n + pc * nc)/(n +nc)\n",
    "p"
   ]
  },
  {
   "cell_type": "code",
   "execution_count": 8,
   "id": "d5815c71",
   "metadata": {},
   "outputs": [],
   "source": [
    "import math\n",
    "from scipy.stats import norm"
   ]
  },
  {
   "cell_type": "code",
   "execution_count": 9,
   "id": "48d6e833",
   "metadata": {},
   "outputs": [
    {
     "data": {
      "text/plain": [
       "1.0666076325713538"
      ]
     },
     "execution_count": 9,
     "metadata": {},
     "output_type": "execute_result"
    }
   ],
   "source": [
    "#рассчитаем тестовую статистику z\n",
    "z = (p - pc) / np.sqrt((p * (1 - p) / n) + (pc * (1 - pc) / nc))\n",
    "z"
   ]
  },
  {
   "cell_type": "code",
   "execution_count": 10,
   "id": "4cc344b8",
   "metadata": {},
   "outputs": [
    {
     "data": {
      "text/plain": [
       "0.2861490524460022"
      ]
     },
     "execution_count": 10,
     "metadata": {},
     "output_type": "execute_result"
    }
   ],
   "source": [
    "# Рассчитаем p-значение тестовой статистики z\n",
    "p_value = 2 * (1 - norm.cdf(abs(z)))\n",
    "p_value"
   ]
  },
  {
   "cell_type": "markdown",
   "id": "cdd1aca8",
   "metadata": {},
   "source": [
    "## Вывод: исходя из полученных результатов, нет статистически значимой разницы в конверсии между экспериментальной и контрольной группами. (p_value>0.05)"
   ]
  },
  {
   "cell_type": "code",
   "execution_count": null,
   "id": "b3ed6042",
   "metadata": {},
   "outputs": [],
   "source": []
  },
  {
   "cell_type": "code",
   "execution_count": null,
   "id": "f84a3f2a",
   "metadata": {},
   "outputs": [],
   "source": []
  }
 ],
 "metadata": {
  "kernelspec": {
   "display_name": "Python 3 (ipykernel)",
   "language": "python",
   "name": "python3"
  },
  "language_info": {
   "codemirror_mode": {
    "name": "ipython",
    "version": 3
   },
   "file_extension": ".py",
   "mimetype": "text/x-python",
   "name": "python",
   "nbconvert_exporter": "python",
   "pygments_lexer": "ipython3",
   "version": "3.10.10"
  }
 },
 "nbformat": 4,
 "nbformat_minor": 5
}
