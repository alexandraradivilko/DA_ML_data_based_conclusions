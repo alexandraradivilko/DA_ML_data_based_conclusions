{
 "cells": [
  {
   "cell_type": "code",
   "execution_count": 2,
   "id": "694fdb22",
   "metadata": {},
   "outputs": [],
   "source": [
    "import pandas as pd\n",
    "import numpy as np\n",
    "\n",
    "import matplotlib.pyplot as plt\n",
    "import seaborn as sns\n",
    "from pandas.api.types import CategoricalDtype"
   ]
  },
  {
   "cell_type": "code",
   "execution_count": 3,
   "id": "ffe0baeb",
   "metadata": {},
   "outputs": [],
   "source": [
    "spotify = pd.read_csv(\"Spotify_data.csv\")"
   ]
  },
  {
   "cell_type": "code",
   "execution_count": 4,
   "id": "bb77679e",
   "metadata": {},
   "outputs": [
    {
     "data": {
      "text/html": [
       "<div>\n",
       "<style scoped>\n",
       "    .dataframe tbody tr th:only-of-type {\n",
       "        vertical-align: middle;\n",
       "    }\n",
       "\n",
       "    .dataframe tbody tr th {\n",
       "        vertical-align: top;\n",
       "    }\n",
       "\n",
       "    .dataframe thead th {\n",
       "        text-align: right;\n",
       "    }\n",
       "</style>\n",
       "<table border=\"1\" class=\"dataframe\">\n",
       "  <thead>\n",
       "    <tr style=\"text-align: right;\">\n",
       "      <th></th>\n",
       "      <th>Age</th>\n",
       "      <th>Gender</th>\n",
       "      <th>spotify_usage_period</th>\n",
       "      <th>spotify_listening_device</th>\n",
       "      <th>spotify_subscription_plan</th>\n",
       "      <th>premium_sub_willingness</th>\n",
       "      <th>preffered_premium_plan</th>\n",
       "      <th>preferred_listening_content</th>\n",
       "      <th>fav_music_genre</th>\n",
       "      <th>music_time_slot</th>\n",
       "      <th>music_Influencial_mood</th>\n",
       "      <th>music_lis_frequency</th>\n",
       "      <th>music_expl_method</th>\n",
       "      <th>music_recc_rating</th>\n",
       "      <th>pod_lis_frequency</th>\n",
       "      <th>fav_pod_genre</th>\n",
       "      <th>preffered_pod_format</th>\n",
       "      <th>pod_host_preference</th>\n",
       "      <th>preffered_pod_duration</th>\n",
       "      <th>pod_variety_satisfaction</th>\n",
       "    </tr>\n",
       "  </thead>\n",
       "  <tbody>\n",
       "    <tr>\n",
       "      <th>0</th>\n",
       "      <td>20-35</td>\n",
       "      <td>Female</td>\n",
       "      <td>More than 2 years</td>\n",
       "      <td>Smart speakers or voice assistants</td>\n",
       "      <td>Free (ad-supported)</td>\n",
       "      <td>Yes</td>\n",
       "      <td>Family Plan-Rs 179/month</td>\n",
       "      <td>Podcast</td>\n",
       "      <td>Melody</td>\n",
       "      <td>Night</td>\n",
       "      <td>Sadness or melancholy</td>\n",
       "      <td>leisure time</td>\n",
       "      <td>Playlists</td>\n",
       "      <td>3</td>\n",
       "      <td>Daily</td>\n",
       "      <td>Comedy</td>\n",
       "      <td>Interview</td>\n",
       "      <td>Both</td>\n",
       "      <td>Both</td>\n",
       "      <td>Ok</td>\n",
       "    </tr>\n",
       "    <tr>\n",
       "      <th>1</th>\n",
       "      <td>12-20</td>\n",
       "      <td>Male</td>\n",
       "      <td>More than 2 years</td>\n",
       "      <td>Computer or laptop</td>\n",
       "      <td>Free (ad-supported)</td>\n",
       "      <td>Yes</td>\n",
       "      <td>Individual Plan- Rs 119/ month</td>\n",
       "      <td>Podcast</td>\n",
       "      <td>Rap</td>\n",
       "      <td>Afternoon</td>\n",
       "      <td>Social gatherings or parties</td>\n",
       "      <td>Workout session</td>\n",
       "      <td>Playlists</td>\n",
       "      <td>2</td>\n",
       "      <td>Several times a week</td>\n",
       "      <td>Comedy</td>\n",
       "      <td>Interview</td>\n",
       "      <td>Both</td>\n",
       "      <td>None</td>\n",
       "      <td>Satisfied</td>\n",
       "    </tr>\n",
       "    <tr>\n",
       "      <th>2</th>\n",
       "      <td>35-60</td>\n",
       "      <td>Others</td>\n",
       "      <td>6 months to 1 year</td>\n",
       "      <td>Smart speakers or voice assistants</td>\n",
       "      <td>Free (ad-supported)</td>\n",
       "      <td>Yes</td>\n",
       "      <td>Student Plan-Rs 59/month</td>\n",
       "      <td>Podcast</td>\n",
       "      <td>Pop</td>\n",
       "      <td>Night</td>\n",
       "      <td>Relaxation and stress relief</td>\n",
       "      <td>Study Hours, While Traveling</td>\n",
       "      <td>Playlists</td>\n",
       "      <td>4</td>\n",
       "      <td>Once a week</td>\n",
       "      <td>Sports</td>\n",
       "      <td>Interview</td>\n",
       "      <td>None</td>\n",
       "      <td>Both</td>\n",
       "      <td>Satisfied</td>\n",
       "    </tr>\n",
       "    <tr>\n",
       "      <th>3</th>\n",
       "      <td>20-35</td>\n",
       "      <td>Female</td>\n",
       "      <td>1 year to 2 years</td>\n",
       "      <td>Smartphone, Smart speakers or voice assistants</td>\n",
       "      <td>Free (ad-supported)</td>\n",
       "      <td>No</td>\n",
       "      <td>None</td>\n",
       "      <td>Music</td>\n",
       "      <td>Melody</td>\n",
       "      <td>Night</td>\n",
       "      <td>Relaxation and stress relief, Social gathering...</td>\n",
       "      <td>Office hours, Workout session, leisure time</td>\n",
       "      <td>recommendations, Playlists</td>\n",
       "      <td>4</td>\n",
       "      <td>Never</td>\n",
       "      <td>None</td>\n",
       "      <td>None</td>\n",
       "      <td>None</td>\n",
       "      <td>None</td>\n",
       "      <td>Ok</td>\n",
       "    </tr>\n",
       "    <tr>\n",
       "      <th>4</th>\n",
       "      <td>20-35</td>\n",
       "      <td>Female</td>\n",
       "      <td>1 year to 2 years</td>\n",
       "      <td>Smartphone</td>\n",
       "      <td>Free (ad-supported)</td>\n",
       "      <td>No</td>\n",
       "      <td>None</td>\n",
       "      <td>Music</td>\n",
       "      <td>Melody</td>\n",
       "      <td>Night</td>\n",
       "      <td>Relaxation and stress relief</td>\n",
       "      <td>leisure time</td>\n",
       "      <td>recommendations, Playlists</td>\n",
       "      <td>4</td>\n",
       "      <td>Rarely</td>\n",
       "      <td>Lifestyle and Health</td>\n",
       "      <td>Story telling</td>\n",
       "      <td>Well known individuals</td>\n",
       "      <td>Both</td>\n",
       "      <td>Ok</td>\n",
       "    </tr>\n",
       "  </tbody>\n",
       "</table>\n",
       "</div>"
      ],
      "text/plain": [
       "     Age  Gender spotify_usage_period  \\\n",
       "0  20-35  Female    More than 2 years   \n",
       "1  12-20    Male    More than 2 years   \n",
       "2  35-60  Others   6 months to 1 year   \n",
       "3  20-35  Female    1 year to 2 years   \n",
       "4  20-35  Female    1 year to 2 years   \n",
       "\n",
       "                         spotify_listening_device spotify_subscription_plan  \\\n",
       "0              Smart speakers or voice assistants       Free (ad-supported)   \n",
       "1                              Computer or laptop       Free (ad-supported)   \n",
       "2              Smart speakers or voice assistants       Free (ad-supported)   \n",
       "3  Smartphone, Smart speakers or voice assistants       Free (ad-supported)   \n",
       "4                                      Smartphone       Free (ad-supported)   \n",
       "\n",
       "  premium_sub_willingness          preffered_premium_plan  \\\n",
       "0                     Yes        Family Plan-Rs 179/month   \n",
       "1                     Yes  Individual Plan- Rs 119/ month   \n",
       "2                     Yes        Student Plan-Rs 59/month   \n",
       "3                      No                            None   \n",
       "4                      No                            None   \n",
       "\n",
       "  preferred_listening_content fav_music_genre music_time_slot  \\\n",
       "0                     Podcast          Melody           Night   \n",
       "1                     Podcast             Rap       Afternoon   \n",
       "2                     Podcast             Pop           Night   \n",
       "3                       Music          Melody           Night   \n",
       "4                       Music          Melody           Night   \n",
       "\n",
       "                              music_Influencial_mood  \\\n",
       "0                              Sadness or melancholy   \n",
       "1                       Social gatherings or parties   \n",
       "2                       Relaxation and stress relief   \n",
       "3  Relaxation and stress relief, Social gathering...   \n",
       "4                       Relaxation and stress relief   \n",
       "\n",
       "                           music_lis_frequency           music_expl_method  \\\n",
       "0                                 leisure time                   Playlists   \n",
       "1                              Workout session                   Playlists   \n",
       "2                 Study Hours, While Traveling                   Playlists   \n",
       "3  Office hours, Workout session, leisure time  recommendations, Playlists   \n",
       "4                                 leisure time  recommendations, Playlists   \n",
       "\n",
       "   music_recc_rating     pod_lis_frequency         fav_pod_genre  \\\n",
       "0                  3                 Daily                Comedy   \n",
       "1                  2  Several times a week                Comedy   \n",
       "2                  4           Once a week                Sports   \n",
       "3                  4                 Never                  None   \n",
       "4                  4                Rarely  Lifestyle and Health   \n",
       "\n",
       "  preffered_pod_format     pod_host_preference preffered_pod_duration  \\\n",
       "0            Interview                    Both                   Both   \n",
       "1            Interview                    Both                   None   \n",
       "2            Interview                    None                   Both   \n",
       "3                 None                    None                   None   \n",
       "4        Story telling  Well known individuals                   Both   \n",
       "\n",
       "  pod_variety_satisfaction  \n",
       "0                       Ok  \n",
       "1                Satisfied  \n",
       "2                Satisfied  \n",
       "3                       Ok  \n",
       "4                       Ok  "
      ]
     },
     "execution_count": 4,
     "metadata": {},
     "output_type": "execute_result"
    }
   ],
   "source": [
    "spotify.head()"
   ]
  },
  {
   "cell_type": "markdown",
   "id": "6d3822c6",
   "metadata": {},
   "source": [
    "## Как отличаются предпочтения по типу контента (подкасты или музыка) в разных возрастных группах?"
   ]
  },
  {
   "cell_type": "code",
   "execution_count": 5,
   "id": "8d9730a6",
   "metadata": {},
   "outputs": [
    {
     "data": {
      "text/plain": [
       "array(['Podcast', 'Music'], dtype=object)"
      ]
     },
     "execution_count": 5,
     "metadata": {},
     "output_type": "execute_result"
    }
   ],
   "source": [
    "df = spotify\n",
    "df['preferred_listening_content'].unique()"
   ]
  },
  {
   "cell_type": "code",
   "execution_count": null,
   "id": "516418ad",
   "metadata": {},
   "outputs": [],
   "source": [
    "df['index'] = df.index"
   ]
  },
  {
   "cell_type": "code",
   "execution_count": 57,
   "id": "b235d5a9",
   "metadata": {},
   "outputs": [
    {
     "name": "stderr",
     "output_type": "stream",
     "text": [
      "/var/folders/vy/dqjs80ms1kg43qy8g1wp0x1m0000gn/T/ipykernel_36499/3928581723.py:2: SettingWithCopyWarning: \n",
      "A value is trying to be set on a copy of a slice from a DataFrame.\n",
      "Try using .loc[row_indexer,col_indexer] = value instead\n",
      "\n",
      "See the caveats in the documentation: https://pandas.pydata.org/pandas-docs/stable/user_guide/indexing.html#returning-a-view-versus-a-copy\n",
      "  df[\"Age\"] =  df[\"Age\"].astype(cat_typeOrder)\n"
     ]
    }
   ],
   "source": [
    "cat_typeOrder = CategoricalDtype(categories=[\"6-12\",\"12-20\",\"20-35\",\"35-60\",\"60+\"], ordered=True)\n",
    "df[\"Age\"] =  df[\"Age\"].astype(cat_typeOrder)"
   ]
  },
  {
   "cell_type": "code",
   "execution_count": 63,
   "id": "49ff9cb4",
   "metadata": {},
   "outputs": [
    {
     "data": {
      "text/html": [
       "<div>\n",
       "<style scoped>\n",
       "    .dataframe tbody tr th:only-of-type {\n",
       "        vertical-align: middle;\n",
       "    }\n",
       "\n",
       "    .dataframe tbody tr th {\n",
       "        vertical-align: top;\n",
       "    }\n",
       "\n",
       "    .dataframe thead th {\n",
       "        text-align: right;\n",
       "    }\n",
       "</style>\n",
       "<table border=\"1\" class=\"dataframe\">\n",
       "  <thead>\n",
       "    <tr style=\"text-align: right;\">\n",
       "      <th>preferred_listening_content</th>\n",
       "      <th>Music</th>\n",
       "      <th>Podcast</th>\n",
       "    </tr>\n",
       "    <tr>\n",
       "      <th>Age</th>\n",
       "      <th></th>\n",
       "      <th></th>\n",
       "    </tr>\n",
       "  </thead>\n",
       "  <tbody>\n",
       "    <tr>\n",
       "      <th>6-12</th>\n",
       "      <td>1</td>\n",
       "      <td>2</td>\n",
       "    </tr>\n",
       "    <tr>\n",
       "      <th>12-20</th>\n",
       "      <td>26</td>\n",
       "      <td>35</td>\n",
       "    </tr>\n",
       "    <tr>\n",
       "      <th>20-35</th>\n",
       "      <td>243</td>\n",
       "      <td>61</td>\n",
       "    </tr>\n",
       "    <tr>\n",
       "      <th>35-60</th>\n",
       "      <td>9</td>\n",
       "      <td>12</td>\n",
       "    </tr>\n",
       "    <tr>\n",
       "      <th>60+</th>\n",
       "      <td>1</td>\n",
       "      <td>0</td>\n",
       "    </tr>\n",
       "  </tbody>\n",
       "</table>\n",
       "</div>"
      ],
      "text/plain": [
       "preferred_listening_content  Music  Podcast\n",
       "Age                                        \n",
       "6-12                             1        2\n",
       "12-20                           26       35\n",
       "20-35                          243       61\n",
       "35-60                            9       12\n",
       "60+                              1        0"
      ]
     },
     "execution_count": 63,
     "metadata": {},
     "output_type": "execute_result"
    }
   ],
   "source": [
    "# посмотрим на численность групп\n",
    "content_age = df.pivot_table(\n",
    "    values='index',\n",
    "    index='Age', \n",
    "    columns= 'preferred_listening_content',\n",
    "    aggfunc= 'count',\n",
    "    fill_value=0)\n",
    "content_age\n",
    "# вывод: самая многочисленная - 20-35, в группе 60+ представлен только 1 респондент"
   ]
  },
  {
   "cell_type": "code",
   "execution_count": 62,
   "id": "0bdc0cf9",
   "metadata": {},
   "outputs": [
    {
     "data": {
      "text/html": [
       "<div>\n",
       "<style scoped>\n",
       "    .dataframe tbody tr th:only-of-type {\n",
       "        vertical-align: middle;\n",
       "    }\n",
       "\n",
       "    .dataframe tbody tr th {\n",
       "        vertical-align: top;\n",
       "    }\n",
       "\n",
       "    .dataframe thead th {\n",
       "        text-align: right;\n",
       "    }\n",
       "</style>\n",
       "<table border=\"1\" class=\"dataframe\">\n",
       "  <thead>\n",
       "    <tr style=\"text-align: right;\">\n",
       "      <th>preferred_listening_content</th>\n",
       "      <th>Music</th>\n",
       "      <th>Podcast</th>\n",
       "    </tr>\n",
       "    <tr>\n",
       "      <th>Age</th>\n",
       "      <th></th>\n",
       "      <th></th>\n",
       "    </tr>\n",
       "  </thead>\n",
       "  <tbody>\n",
       "    <tr>\n",
       "      <th>6-12</th>\n",
       "      <td>33.33</td>\n",
       "      <td>66.67</td>\n",
       "    </tr>\n",
       "    <tr>\n",
       "      <th>12-20</th>\n",
       "      <td>42.62</td>\n",
       "      <td>57.38</td>\n",
       "    </tr>\n",
       "    <tr>\n",
       "      <th>20-35</th>\n",
       "      <td>79.93</td>\n",
       "      <td>20.07</td>\n",
       "    </tr>\n",
       "    <tr>\n",
       "      <th>35-60</th>\n",
       "      <td>42.86</td>\n",
       "      <td>57.14</td>\n",
       "    </tr>\n",
       "    <tr>\n",
       "      <th>60+</th>\n",
       "      <td>100.00</td>\n",
       "      <td>0.00</td>\n",
       "    </tr>\n",
       "  </tbody>\n",
       "</table>\n",
       "</div>"
      ],
      "text/plain": [
       "preferred_listening_content   Music  Podcast\n",
       "Age                                         \n",
       "6-12                          33.33    66.67\n",
       "12-20                         42.62    57.38\n",
       "20-35                         79.93    20.07\n",
       "35-60                         42.86    57.14\n",
       "60+                          100.00     0.00"
      ]
     },
     "execution_count": 62,
     "metadata": {},
     "output_type": "execute_result"
    }
   ],
   "source": [
    "content_age = pd.crosstab(df.Age, df.preferred_listening_content, normalize='index')\n",
    "content_age = content_age*100\n",
    "content_age.round(2)"
   ]
  },
  {
   "cell_type": "code",
   "execution_count": 60,
   "id": "19c6f3a4",
   "metadata": {},
   "outputs": [
    {
     "data": {
      "text/plain": [
       "<Axes: title={'center': 'Доля предпочтений разного контента по возрастам (%)'}, ylabel='Age'>"
      ]
     },
     "execution_count": 60,
     "metadata": {},
     "output_type": "execute_result"
    },
    {
     "data": {
      "image/png": "[encoded data removed]",
      "text/plain": [
       "<Figure size 640x480 with 1 Axes>"
      ]
     },
     "metadata": {},
     "output_type": "display_data"
    }
   ],
   "source": [
    "content_age.plot( \n",
    "    kind = 'barh', \n",
    "    stacked = True, \n",
    "    title = 'Доля предпочтений разного контента по возрастам (%)',\n",
    "    color = ['steelblue', 'lightskyblue'])"
   ]
  },
  {
   "cell_type": "code",
   "execution_count": null,
   "id": "f2598a66",
   "metadata": {},
   "outputs": [],
   "source": []
  },
  {
   "cell_type": "markdown",
   "id": "434a25d9",
   "metadata": {},
   "source": [
    "## Вывод\n",
    "1. Предпочтение подкастов не представлено только в самой старшей группе (60+), в остальных есть предпочтения как музыки, так и подкастов.\n",
    "2. В возрастной группе 20-35 преобладает предпочтние музыки, тогда как в остальных - доля респондентов, предпочитающих подкасты музыке больше.\n",
    "3. Стоит помнить о неравномерности групп: самая многочисленная - 20-35, в группе 60+ представлен только 1 респондент, так что в целом сравнение групп не совсем корректно."
   ]
  },
  {
   "cell_type": "markdown",
   "id": "b6132d70",
   "metadata": {},
   "source": [
    "## Как отличаются предпочтения по типу контента (подкасты или музыка) у мужчин и женщин?"
   ]
  },
  {
   "cell_type": "code",
   "execution_count": 10,
   "id": "322df03f",
   "metadata": {},
   "outputs": [
    {
     "data": {
      "text/plain": [
       "Female    391\n",
       "Male      114\n",
       "Others     15\n",
       "Name: Gender, dtype: int64"
      ]
     },
     "execution_count": 10,
     "metadata": {},
     "output_type": "execute_result"
    }
   ],
   "source": [
    "df.Gender.value_counts()"
   ]
  },
  {
   "cell_type": "code",
   "execution_count": 11,
   "id": "09f1217e",
   "metadata": {},
   "outputs": [],
   "source": [
    "cat_typeOrder = CategoricalDtype(categories=[\"Male\",\"Female\",\"Others\"], ordered=True)\n",
    "df[\"Gender\"] =  df[\"Gender\"].astype(cat_typeOrder)"
   ]
  },
  {
   "cell_type": "code",
   "execution_count": 12,
   "id": "105b23c4",
   "metadata": {},
   "outputs": [
    {
     "data": {
      "text/html": [
       "<div>\n",
       "<style scoped>\n",
       "    .dataframe tbody tr th:only-of-type {\n",
       "        vertical-align: middle;\n",
       "    }\n",
       "\n",
       "    .dataframe tbody tr th {\n",
       "        vertical-align: top;\n",
       "    }\n",
       "\n",
       "    .dataframe thead th {\n",
       "        text-align: right;\n",
       "    }\n",
       "</style>\n",
       "<table border=\"1\" class=\"dataframe\">\n",
       "  <thead>\n",
       "    <tr style=\"text-align: right;\">\n",
       "      <th>Gender</th>\n",
       "      <th>Male</th>\n",
       "      <th>Female</th>\n",
       "      <th>Others</th>\n",
       "    </tr>\n",
       "    <tr>\n",
       "      <th>preferred_listening_content</th>\n",
       "      <th></th>\n",
       "      <th></th>\n",
       "      <th></th>\n",
       "    </tr>\n",
       "  </thead>\n",
       "  <tbody>\n",
       "    <tr>\n",
       "      <th>Music</th>\n",
       "      <td>94</td>\n",
       "      <td>309</td>\n",
       "      <td>7</td>\n",
       "    </tr>\n",
       "    <tr>\n",
       "      <th>Podcast</th>\n",
       "      <td>20</td>\n",
       "      <td>82</td>\n",
       "      <td>8</td>\n",
       "    </tr>\n",
       "  </tbody>\n",
       "</table>\n",
       "</div>"
      ],
      "text/plain": [
       "Gender                       Male  Female  Others\n",
       "preferred_listening_content                      \n",
       "Music                          94     309       7\n",
       "Podcast                        20      82       8"
      ]
     },
     "execution_count": 12,
     "metadata": {},
     "output_type": "execute_result"
    }
   ],
   "source": [
    "content_gender_age = df.pivot_table(\n",
    "    values='index',\n",
    "    index='preferred_listening_content', \n",
    "    columns= 'Gender',\n",
    "    aggfunc= 'count',\n",
    "    fill_value=0)\n",
    "content_gender_age"
   ]
  },
  {
   "cell_type": "code",
   "execution_count": 13,
   "id": "7b2981aa",
   "metadata": {},
   "outputs": [],
   "source": [
    "content_gender_age_proportion = content_gender_age.div(content_gender_age.sum(axis=1), axis=0)\n",
    "content_gender_age_proportion = content_gender_age_proportion * 100"
   ]
  },
  {
   "cell_type": "code",
   "execution_count": 14,
   "id": "447999ce",
   "metadata": {
    "scrolled": false
   },
   "outputs": [
    {
     "data": {
      "text/plain": [
       "<Axes: title={'center': 'Доля предпочтений разного контента по полу (%)'}, ylabel='preferred_listening_content'>"
      ]
     },
     "execution_count": 14,
     "metadata": {},
     "output_type": "execute_result"
    },
    {
     "data": {
      "image/png": "[encoded data removed]",
      "text/plain": [
       "<Figure size 640x480 with 1 Axes>"
      ]
     },
     "metadata": {},
     "output_type": "display_data"
    }
   ],
   "source": [
    "content_gender_age_proportion.plot( \n",
    "    kind = 'barh', \n",
    "    stacked = True, \n",
    "    title = 'Доля предпочтений разного контента по полу (%)',\n",
    "    color = ['steelblue', 'lightskyblue','lavender'])"
   ]
  },
  {
   "cell_type": "markdown",
   "id": "7d191262",
   "metadata": {},
   "source": [
    "## Выводы: \n",
    "1. Всего женщин - 491, мужчин - 114, группы неравномерны.\n",
    "2. По полу предпочтения распределены примерно одинаково, однако, немного больше группа мужин, предпочитающих подкасты. Женщины в одинаковой мере разделили предпочтения."
   ]
  },
  {
   "cell_type": "markdown",
   "id": "a37e4cb5",
   "metadata": {},
   "source": [
    "## Уберите тех, кто никогда не слушал подкасты. У оставшихся посмотрите на удовлетворенность разнообразием подкастов с учетом предпочитаемых жанров"
   ]
  },
  {
   "cell_type": "code",
   "execution_count": 15,
   "id": "1c53fa7a",
   "metadata": {},
   "outputs": [
    {
     "data": {
      "text/plain": [
       "(390, 21)"
      ]
     },
     "execution_count": 15,
     "metadata": {},
     "output_type": "execute_result"
    }
   ],
   "source": [
    "df = df[df.pod_lis_frequency!=\"Never\"]\n",
    "df.shape"
   ]
  },
  {
   "cell_type": "code",
   "execution_count": 16,
   "id": "3f42d529",
   "metadata": {},
   "outputs": [
    {
     "name": "stderr",
     "output_type": "stream",
     "text": [
      "/var/folders/vy/dqjs80ms1kg43qy8g1wp0x1m0000gn/T/ipykernel_36499/2573762309.py:2: SettingWithCopyWarning: \n",
      "A value is trying to be set on a copy of a slice from a DataFrame.\n",
      "Try using .loc[row_indexer,col_indexer] = value instead\n",
      "\n",
      "See the caveats in the documentation: https://pandas.pydata.org/pandas-docs/stable/user_guide/indexing.html#returning-a-view-versus-a-copy\n",
      "  df[\"pod_variety_satisfaction\"] =  df[\"pod_variety_satisfaction\"].astype(cat_typeSat)\n"
     ]
    }
   ],
   "source": [
    "cat_typeSat = CategoricalDtype(categories=[\"Very Dissatisfied\",\"Dissatisfied\",\"Ok\",\"Satisfied\",\"Very Satisfied\"], ordered=True)\n",
    "df[\"pod_variety_satisfaction\"] =  df[\"pod_variety_satisfaction\"].astype(cat_typeSat)\n"
   ]
  },
  {
   "cell_type": "code",
   "execution_count": 17,
   "id": "87a8c127",
   "metadata": {},
   "outputs": [
    {
     "name": "stdout",
     "output_type": "stream",
     "text": [
      "<class 'pandas.core.frame.DataFrame'>\n",
      "Int64Index: 390 entries, 0 to 518\n",
      "Data columns (total 21 columns):\n",
      " #   Column                       Non-Null Count  Dtype   \n",
      "---  ------                       --------------  -----   \n",
      " 0   Age                          390 non-null    object  \n",
      " 1   Gender                       390 non-null    category\n",
      " 2   spotify_usage_period         390 non-null    object  \n",
      " 3   spotify_listening_device     390 non-null    object  \n",
      " 4   spotify_subscription_plan    390 non-null    object  \n",
      " 5   premium_sub_willingness      390 non-null    object  \n",
      " 6   preffered_premium_plan       390 non-null    object  \n",
      " 7   preferred_listening_content  390 non-null    object  \n",
      " 8   fav_music_genre              390 non-null    object  \n",
      " 9   music_time_slot              390 non-null    object  \n",
      " 10  music_Influencial_mood       390 non-null    object  \n",
      " 11  music_lis_frequency          390 non-null    object  \n",
      " 12  music_expl_method            390 non-null    object  \n",
      " 13  music_recc_rating            390 non-null    int64   \n",
      " 14  pod_lis_frequency            390 non-null    object  \n",
      " 15  fav_pod_genre                390 non-null    object  \n",
      " 16  preffered_pod_format         390 non-null    object  \n",
      " 17  pod_host_preference          390 non-null    object  \n",
      " 18  preffered_pod_duration       390 non-null    object  \n",
      " 19  pod_variety_satisfaction     390 non-null    category\n",
      " 20  index                        390 non-null    int64   \n",
      "dtypes: category(2), int64(2), object(17)\n",
      "memory usage: 62.0+ KB\n"
     ]
    }
   ],
   "source": [
    "df.info()"
   ]
  },
  {
   "cell_type": "code",
   "execution_count": 18,
   "id": "4f24791e",
   "metadata": {},
   "outputs": [
    {
     "data": {
      "text/html": [
       "<div>\n",
       "<style scoped>\n",
       "    .dataframe tbody tr th:only-of-type {\n",
       "        vertical-align: middle;\n",
       "    }\n",
       "\n",
       "    .dataframe tbody tr th {\n",
       "        vertical-align: top;\n",
       "    }\n",
       "\n",
       "    .dataframe thead th {\n",
       "        text-align: right;\n",
       "    }\n",
       "</style>\n",
       "<table border=\"1\" class=\"dataframe\">\n",
       "  <thead>\n",
       "    <tr style=\"text-align: right;\">\n",
       "      <th>Gender</th>\n",
       "      <th>Male</th>\n",
       "      <th>Female</th>\n",
       "      <th>Others</th>\n",
       "    </tr>\n",
       "    <tr>\n",
       "      <th>preferred_listening_content</th>\n",
       "      <th></th>\n",
       "      <th></th>\n",
       "      <th></th>\n",
       "    </tr>\n",
       "  </thead>\n",
       "  <tbody>\n",
       "    <tr>\n",
       "      <th>Music</th>\n",
       "      <td>94</td>\n",
       "      <td>309</td>\n",
       "      <td>7</td>\n",
       "    </tr>\n",
       "    <tr>\n",
       "      <th>Podcast</th>\n",
       "      <td>20</td>\n",
       "      <td>82</td>\n",
       "      <td>8</td>\n",
       "    </tr>\n",
       "  </tbody>\n",
       "</table>\n",
       "</div>"
      ],
      "text/plain": [
       "Gender                       Male  Female  Others\n",
       "preferred_listening_content                      \n",
       "Music                          94     309       7\n",
       "Podcast                        20      82       8"
      ]
     },
     "execution_count": 18,
     "metadata": {},
     "output_type": "execute_result"
    }
   ],
   "source": [
    "pod_sat = df.pivot_table(\n",
    "    values='index',\n",
    "    index='preferred_listening_content', \n",
    "    columns= 'Gender',\n",
    "    aggfunc= 'count',\n",
    "    fill_value=0)\n",
    "content_gender_age"
   ]
  },
  {
   "cell_type": "code",
   "execution_count": 19,
   "id": "97219e6b",
   "metadata": {},
   "outputs": [
    {
     "data": {
      "text/plain": [
       "Ok                   176\n",
       "Satisfied            150\n",
       "Very Satisfied        46\n",
       "Dissatisfied          17\n",
       "Very Dissatisfied      1\n",
       "Name: pod_variety_satisfaction, dtype: int64"
      ]
     },
     "execution_count": 19,
     "metadata": {},
     "output_type": "execute_result"
    }
   ],
   "source": [
    "df['pod_variety_satisfaction'].value_counts()"
   ]
  },
  {
   "cell_type": "code",
   "execution_count": 20,
   "id": "3647a2d9",
   "metadata": {},
   "outputs": [
    {
     "data": {
      "text/plain": [
       "Comedy                                              104\n",
       "Lifestyle and Health                                101\n",
       "Health and Fitness                                   77\n",
       "Sports                                               50\n",
       "None                                                 29\n",
       "Food and cooking                                     15\n",
       "Finance related and current affairs                   1\n",
       "Educational                                           1\n",
       "Self help                                             1\n",
       "Novels                                                1\n",
       "Political, informative, topics that interests me      1\n",
       "Murder Mystery                                        1\n",
       "Technology                                            1\n",
       "Spiritual and devotional                              1\n",
       "General knowledge                                     1\n",
       "Dance and Relevant cases                              1\n",
       "Informative stuff                                     1\n",
       "Everything                                            1\n",
       "Business                                              1\n",
       "Stories                                               1\n",
       "Name: fav_pod_genre, dtype: int64"
      ]
     },
     "execution_count": 20,
     "metadata": {},
     "output_type": "execute_result"
    }
   ],
   "source": [
    "df['fav_pod_genre'].value_counts()"
   ]
  },
  {
   "cell_type": "code",
   "execution_count": 21,
   "id": "5db939e3",
   "metadata": {},
   "outputs": [],
   "source": [
    "sat_variety_proportion = pd.crosstab(df.fav_pod_genre, df.pod_variety_satisfaction,values=df.index,aggfunc='count',normalize='index')\n",
    "\n",
    "sat_variety_proportion = sat_variety_proportion*100"
   ]
  },
  {
   "cell_type": "code",
   "execution_count": 64,
   "id": "51f8412b",
   "metadata": {},
   "outputs": [
    {
     "data": {
      "text/plain": [
       "<matplotlib.legend.Legend at 0x28201dea0>"
      ]
     },
     "execution_count": 64,
     "metadata": {},
     "output_type": "execute_result"
    },
    {
     "data": {
      "image/png": "[encoded data removed]",
      "text/plain": [
       "<Figure size 640x480 with 1 Axes>"
      ]
     },
     "metadata": {},
     "output_type": "display_data"
    }
   ],
   "source": [
    "q=sat_variety_proportion.plot( \n",
    "    kind = 'barh', \n",
    "    stacked = True, \n",
    "    title = 'Доля оценок удовлетворенности по жанрам (%)',\n",
    "    colormap='RdYlGn')\n",
    "q.set(ylabel=\"жанры\")\n",
    "q.legend(loc=9)"
   ]
  },
  {
   "cell_type": "markdown",
   "id": "99766522",
   "metadata": {},
   "source": [
    "## Выводы:\n",
    "1. У большинства предпочтений жанров представлено по 1 оценке, группы предпочтиаемых жанров неравномерны.\n",
    "2. В целом люди редко ставили низкую степень удовлетворенности (Dissatisfied / Very Dissatisfied).\n",
    "3. Высшую оценку удовлетворенности разнообразием подкастов ставили респонденты, предпочитающие  Comedy, Lifestyle and Health, Health and Fitness, Sports - 4 самых популярных жанра.\n",
    "4. Оценку Very Dissatisfied поставили только респонденты, предпочитающие Спорт.\n",
    "5. В целом преобладают оценки \"Ок\" и \"Удовлетворен\"."
   ]
  },
  {
   "cell_type": "markdown",
   "id": "40d1f8cf",
   "metadata": {},
   "source": [
    "## Сравните оценки рекомендации музыки для пользователей с разными жанровыми предпочтениями"
   ]
  },
  {
   "cell_type": "code",
   "execution_count": 23,
   "id": "d8acceeb",
   "metadata": {},
   "outputs": [
    {
     "data": {
      "text/plain": [
       "Melody              188\n",
       "classical            75\n",
       "Pop                  57\n",
       "Rap                  49\n",
       "Electronic/Dance     14\n",
       "All                   3\n",
       "Rock                  2\n",
       "Kpop                  2\n",
       "Name: fav_music_genre, dtype: int64"
      ]
     },
     "execution_count": 23,
     "metadata": {},
     "output_type": "execute_result"
    }
   ],
   "source": [
    "df['fav_music_genre'].value_counts()"
   ]
  },
  {
   "cell_type": "code",
   "execution_count": 24,
   "id": "3520576a",
   "metadata": {},
   "outputs": [
    {
     "data": {
      "text/plain": [
       "3    143\n",
       "4    124\n",
       "5     64\n",
       "2     51\n",
       "1      8\n",
       "Name: music_recc_rating, dtype: int64"
      ]
     },
     "execution_count": 24,
     "metadata": {},
     "output_type": "execute_result"
    }
   ],
   "source": [
    "df['music_recc_rating'].value_counts()"
   ]
  },
  {
   "cell_type": "code",
   "execution_count": 66,
   "id": "0725c1fe",
   "metadata": {},
   "outputs": [
    {
     "data": {
      "text/html": [
       "<div>\n",
       "<style scoped>\n",
       "    .dataframe tbody tr th:only-of-type {\n",
       "        vertical-align: middle;\n",
       "    }\n",
       "\n",
       "    .dataframe tbody tr th {\n",
       "        vertical-align: top;\n",
       "    }\n",
       "\n",
       "    .dataframe thead th {\n",
       "        text-align: right;\n",
       "    }\n",
       "</style>\n",
       "<table border=\"1\" class=\"dataframe\">\n",
       "  <thead>\n",
       "    <tr style=\"text-align: right;\">\n",
       "      <th></th>\n",
       "      <th>fav_music_genre</th>\n",
       "      <th>mean_music_recc_rating</th>\n",
       "      <th>count_music_recc_rating</th>\n",
       "    </tr>\n",
       "  </thead>\n",
       "  <tbody>\n",
       "    <tr>\n",
       "      <th>0</th>\n",
       "      <td>All</td>\n",
       "      <td>4.000000</td>\n",
       "      <td>3</td>\n",
       "    </tr>\n",
       "    <tr>\n",
       "      <th>1</th>\n",
       "      <td>Electronic/Dance</td>\n",
       "      <td>3.928571</td>\n",
       "      <td>14</td>\n",
       "    </tr>\n",
       "    <tr>\n",
       "      <th>2</th>\n",
       "      <td>Kpop</td>\n",
       "      <td>5.000000</td>\n",
       "      <td>2</td>\n",
       "    </tr>\n",
       "    <tr>\n",
       "      <th>3</th>\n",
       "      <td>Melody</td>\n",
       "      <td>3.691489</td>\n",
       "      <td>188</td>\n",
       "    </tr>\n",
       "    <tr>\n",
       "      <th>4</th>\n",
       "      <td>Pop</td>\n",
       "      <td>3.736842</td>\n",
       "      <td>57</td>\n",
       "    </tr>\n",
       "    <tr>\n",
       "      <th>5</th>\n",
       "      <td>Rap</td>\n",
       "      <td>2.979592</td>\n",
       "      <td>49</td>\n",
       "    </tr>\n",
       "    <tr>\n",
       "      <th>6</th>\n",
       "      <td>Rock</td>\n",
       "      <td>2.500000</td>\n",
       "      <td>2</td>\n",
       "    </tr>\n",
       "    <tr>\n",
       "      <th>7</th>\n",
       "      <td>classical</td>\n",
       "      <td>2.933333</td>\n",
       "      <td>75</td>\n",
       "    </tr>\n",
       "  </tbody>\n",
       "</table>\n",
       "</div>"
      ],
      "text/plain": [
       "    fav_music_genre  mean_music_recc_rating  count_music_recc_rating\n",
       "0               All                4.000000                        3\n",
       "1  Electronic/Dance                3.928571                       14\n",
       "2              Kpop                5.000000                        2\n",
       "3            Melody                3.691489                      188\n",
       "4               Pop                3.736842                       57\n",
       "5               Rap                2.979592                       49\n",
       "6              Rock                2.500000                        2\n",
       "7         classical                2.933333                       75"
      ]
     },
     "execution_count": 66,
     "metadata": {},
     "output_type": "execute_result"
    }
   ],
   "source": [
    "# посчитаем среднюю оценку у каждого жанра\n",
    "rating_genre = df.pivot_table(\n",
    "    values='music_recc_rating',\n",
    "    index='fav_music_genre', \n",
    "    aggfunc= ['mean','count'],\n",
    "    fill_value=0)\n",
    "# приведем в порядок названия столбцов\n",
    "rating_genre.columns = ['_'.join(str(s). strip () for s in col if s) for col in rating_genre.columns]\n",
    "rating_genre.reset_index(inplace= True)\n",
    "rating_genre"
   ]
  },
  {
   "cell_type": "code",
   "execution_count": 67,
   "id": "772b770c",
   "metadata": {},
   "outputs": [
    {
     "data": {
      "image/png": "[encoded data removed]",
      "text/plain": [
       "<Figure size 640x480 with 1 Axes>"
      ]
     },
     "metadata": {},
     "output_type": "display_data"
    }
   ],
   "source": [
    "boxpl = sns.boxplot(x='fav_music_genre', y='music_recc_rating', data=df, color = \"lightblue\", \n",
    "                    medianprops={\"color\": \"blue\"})\n",
    "boxpl = sns.stripplot(x = \"fav_music_genre\", y = \"music_recc_rating\", color=\"orange\", jitter=0.2, size=4, data = df)\n",
    "plt.title('Оценка рекомендации музыки для пользователей с разными жанровыми предпочтениями')\n",
    "plt.xlabel('Любимый жанр музыки')\n",
    "plt.ylabel('Рейтинг музыкальных рекомендаций')\n",
    "plt.xticks(rotation=45)\n",
    "plt.show()"
   ]
  },
  {
   "cell_type": "markdown",
   "id": "c2e7e39e",
   "metadata": {},
   "source": [
    "## Выводы: оценки рекомендации музыки для пользователей с разными жанровыми предпочтениями\n",
    "1. Самая многочисленная группа по жанровому предпочтению - Melody, распределение оценок рекомендаций нормально со средним 2.7\n",
    "2. Самое низкое среднее у любителей рока - 2.5, однако эта группа малочисленна, в ней представлены ответы 2 респонденотов. \n",
    "3. Самая высокая средння оценка рекомендаций в группе с предпочтеними Kpop, но в ней также только 2 ответа.\n",
    "4. Нормальное распределение оценок ркомендаций имеется в группе  Electronic/Dance (14 респондентов)\n",
    "5. В более многочисленных группах (Rap-49 чел, Рор-57 чел), распредения смещенные: в первом случае смещено влево (в сторону низих оценок), во втором - вправо, в сторону высоких."
   ]
  },
  {
   "cell_type": "code",
   "execution_count": null,
   "id": "ce73d5ec",
   "metadata": {},
   "outputs": [],
   "source": []
  },
  {
   "cell_type": "code",
   "execution_count": null,
   "id": "fbb8a7f6",
   "metadata": {},
   "outputs": [],
   "source": []
  },
  {
   "cell_type": "code",
   "execution_count": null,
   "id": "bfe43543",
   "metadata": {},
   "outputs": [],
   "source": []
  },
  {
   "cell_type": "code",
   "execution_count": null,
   "id": "0ff4010d",
   "metadata": {},
   "outputs": [],
   "source": []
  },
  {
   "cell_type": "code",
   "execution_count": null,
   "id": "3a69e6e8",
   "metadata": {},
   "outputs": [],
   "source": []
  }
 ],
 "metadata": {
  "kernelspec": {
   "display_name": "Python 3 (ipykernel)",
   "language": "python",
   "name": "python3"
  },
  "language_info": {
   "codemirror_mode": {
    "name": "ipython",
    "version": 3
   },
   "file_extension": ".py",
   "mimetype": "text/x-python",
   "name": "python",
   "nbconvert_exporter": "python",
   "pygments_lexer": "ipython3",
   "version": "3.10.10"
  }
 },
 "nbformat": 4,
 "nbformat_minor": 5
}
